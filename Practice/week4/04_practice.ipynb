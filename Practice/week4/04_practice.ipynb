{
  "cells": [
    {
      "cell_type": "markdown",
      "metadata": {
        "id": "lUhj7OBRoV6G"
      },
      "source": [
        "# OLS를 이용해 다음 문제를 풀어봅시다."
      ]
    },
    {
      "cell_type": "markdown",
      "metadata": {
        "id": "YYVMMYz7oV6G"
      },
      "source": [
        "## Q1.\n",
        "\n",
        "삼성전자 주식 데이터와 코스피 데이터를 불러와서 beta를 구한 뒤, 삼성에 대한 요구수익률을 CAPM을 통해 계산해 봅시다. 단, 무위험이자율은 https://www.kofr.kr/main.jsp 에서 제시하는 3.499%를 사용하겠습니다.\n"
      ]
    },
    {
      "cell_type": "code",
      "execution_count": null,
      "metadata": {
        "id": "fq5-7oryoV6H"
      },
      "outputs": [],
      "source": []
    },
    {
      "cell_type": "markdown",
      "metadata": {},
      "source": [
        "## Q2.\n",
        "\n",
        "선형대수학 꼴로 나타낸 OLS 문제는 다음과 같습니다\n",
        "\n",
        "$$y = X \\beta + u$$\n",
        "\n",
        "$\\beta$를 구하기 위해 우리는 다음 목적함수를 최소화하는 beta를 계산하고 싶습니다.\n",
        "\n",
        "$$\\min_{\\hat{\\beta}} \\hat{u}^{T}\\hat{u}$$\n",
        "\n",
        "이를 위 회귀식을 이용해 표현하면 목적함수는 다음과 같이 변경됩니다.\n",
        "\n",
        "$$\\min_{\\hat{\\beta}}(Y-X\\hat{\\beta})^{T}(Y-X\\hat{\\beta})$$\n",
        "\n",
        "이를 풀어보면 $\\hat{\\beta}$은 다음과 같이 계산됩니다.  \n",
        "\n",
        "$$\\hat{\\beta} = (X^TX)^{-1}X^{T} y $$\n",
        "\n",
        "- 다음 데이터를 OLS를 이용해 푼 결과와 numpy를 이용해 계산해 본 결과와 비교해보세요"
      ]
    },
    {
      "cell_type": "code",
      "execution_count": 2,
      "metadata": {},
      "outputs": [],
      "source": [
        "import pandas as pd\n",
        "df1 = pd.read_stata('https://github.com/QuantEcon/lecture-python/blob/master/source/_static/lecture_specific/ols/maketable1.dta?raw=true')\n"
      ]
    },
    {
      "cell_type": "code",
      "execution_count": null,
      "metadata": {},
      "outputs": [],
      "source": []
    }
  ],
  "metadata": {
    "colab": {
      "provenance": []
    },
    "kernelspec": {
      "display_name": "base",
      "language": "python",
      "name": "python3"
    },
    "language_info": {
      "codemirror_mode": {
        "name": "ipython",
        "version": 3
      },
      "file_extension": ".py",
      "mimetype": "text/x-python",
      "name": "python",
      "nbconvert_exporter": "python",
      "pygments_lexer": "ipython3",
      "version": "3.11.7"
    }
  },
  "nbformat": 4,
  "nbformat_minor": 0
}
