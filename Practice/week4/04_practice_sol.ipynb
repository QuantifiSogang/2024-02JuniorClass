{
  "cells": [
    {
      "cell_type": "markdown",
      "metadata": {
        "id": "lUhj7OBRoV6G"
      },
      "source": [
        "# OLS를 이용해 다음 문제를 풀어봅시다."
      ]
    },
    {
      "cell_type": "markdown",
      "metadata": {
        "id": "YYVMMYz7oV6G"
      },
      "source": [
        "## Q1.\n",
        "\n",
        "삼성전자 주식 데이터와 코스피 데이터를 불러와서 beta를 구한 뒤, 삼성에 대한 요구수익률을 CAPM을 통해 계산해 봅시다. 단, 무위험이자율은 https://www.kofr.kr/main.jsp 에서 제시하는 3.499%를 사용하겠습니다.\n"
      ]
    },
    {
      "cell_type": "code",
      "execution_count": 51,
      "metadata": {
        "id": "fq5-7oryoV6H"
      },
      "outputs": [
        {
          "name": "stdout",
          "output_type": "stream",
          "text": [
            "1.0970571136499652 0.027697747575491354\n"
          ]
        },
        {
          "name": "stderr",
          "output_type": "stream",
          "text": [
            "C:\\Users\\kumb2\\AppData\\Local\\Temp\\ipykernel_37404\\3673617232.py:30: FutureWarning: Series.__getitem__ treating keys as positions is deprecated. In a future version, integer keys will always be treated as labels (consistent with DataFrame behavior). To access a value by position, use `ser.iloc[pos]`\n",
            "  beta=result.params[1]\n"
          ]
        }
      ],
      "source": [
        "# 선형회귀분석은 다음과 같은 코드를 이용합니다.\n",
        "import statsmodels.api as sm\n",
        "import matplotlib.pyplot as plt\n",
        "from sklearn.model_selection import train_test_split\n",
        "import pandas as pd\n",
        "import pandas_datareader as pdr\n",
        "import numpy as np\n",
        "\n",
        "r_f = 0.03499\n",
        "\n",
        "start_date = pd.to_datetime('2015-01-01')\n",
        "end_date = pd.to_datetime('2024-10-04')\n",
        "samsung= pdr.DataReader(\"005930\", \"naver\", start_date, end_date).astype(int)\n",
        "kospi = pdr.DataReader('KOSPI', \"naver\", start_date, end_date).astype(float)\n",
        "monthly_sam = samsung.resample('M').last()\n",
        "monthly_kos = kospi.resample('M').last()\n",
        "ret_sam = np.log(monthly_sam.Close) - np.log(monthly_sam.Close.shift(1))\n",
        "ret_kospi = np.log(monthly_kos.Close) - np.log(monthly_kos.Close.shift(1))\n",
        "\n",
        "df=pd.concat([ret_sam, ret_kospi], axis=1).dropna()\n",
        "df.columns=['sam', 'KOSPI']\n",
        "\n",
        "X = df.KOSPI-r_f\n",
        "X = sm.add_constant(X)\n",
        "y = df.sam-r_f\n",
        "\n",
        "model = sm.OLS(y, X)\n",
        "result = model.fit()\n",
        "\n",
        "beta=result.params[1]\n",
        "sam_exret=r_f+beta*(np.mean(ret_kospi*12)-r_f)\n",
        "print(beta, sam_exret)"
      ]
    },
    {
      "cell_type": "markdown",
      "metadata": {},
      "source": [
        "## Q2.\n",
        "\n",
        "선형대수학 꼴로 나타낸 OLS 문제는 다음과 같습니다\n",
        "\n",
        "$$y = X \\beta + u$$\n",
        "\n",
        "$\\beta$를 구하기 위해 우리는 다음 목적함수를 최소화하는 beta를 계산하고 싶습니다.\n",
        "\n",
        "$$\\min_{\\hat{\\beta}} \\hat{u}^{T}\\hat{u}$$\n",
        "\n",
        "이를 위 회귀식을 이용해 표현하면 목적함수는 다음과 같이 변경됩니다.\n",
        "\n",
        "$$\\min_{\\hat{\\beta}}(Y-X\\hat{\\beta})^{T}(Y-X\\hat{\\beta})$$\n",
        "\n",
        "이를 풀어보면 $\\hat{\\beta}$은 다음과 같이 계산됩니다.  \n",
        "\n",
        "$$\\hat{\\beta} = (X^TX)^{-1}X^{T} y $$\n",
        "\n",
        "- 다음 데이터를 OLS를 이용해 푼 결과와 numpy를 이용해 계산해 본 결과와 비교해보세요"
      ]
    },
    {
      "cell_type": "code",
      "execution_count": 75,
      "metadata": {},
      "outputs": [
        {
          "name": "stdout",
          "output_type": "stream",
          "text": [
            "                            OLS Regression Results                            \n",
            "==============================================================================\n",
            "Dep. Variable:               logpgp95   R-squared:                       0.611\n",
            "Model:                            OLS   Adj. R-squared:                  0.608\n",
            "Method:                 Least Squares   F-statistic:                     171.4\n",
            "Date:                Fri, 04 Oct 2024   Prob (F-statistic):           4.16e-24\n",
            "Time:                        15:52:24   Log-Likelihood:                -119.71\n",
            "No. Observations:                 111   AIC:                             243.4\n",
            "Df Residuals:                     109   BIC:                             248.8\n",
            "Df Model:                           1                                         \n",
            "Covariance Type:            nonrobust                                         \n",
            "==============================================================================\n",
            "                 coef    std err          t      P>|t|      [0.025      0.975]\n",
            "------------------------------------------------------------------------------\n",
            "const          4.6261      0.301     15.391      0.000       4.030       5.222\n",
            "avexpr         0.5319      0.041     13.093      0.000       0.451       0.612\n",
            "==============================================================================\n",
            "Omnibus:                        9.251   Durbin-Watson:                   1.689\n",
            "Prob(Omnibus):                  0.010   Jarque-Bera (JB):                9.170\n",
            "Skew:                          -0.680   Prob(JB):                       0.0102\n",
            "Kurtosis:                       3.362   Cond. No.                         33.2\n",
            "==============================================================================\n",
            "\n",
            "Notes:\n",
            "[1] Standard Errors assume that the covariance matrix of the errors is correctly specified.\n"
          ]
        }
      ],
      "source": [
        "df1 = pd.read_stata('https://github.com/QuantEcon/lecture-python/blob/master/source/_static/lecture_specific/ols/maketable1.dta?raw=true')\n",
        "df1 = df1.dropna(subset=['logpgp95', 'avexpr'])\n",
        "\n",
        "df1['const'] = 1\n",
        "\n",
        "reg1 = sm.OLS(endog=df1['logpgp95'], exog=df1[['const', 'avexpr']], missing='drop')\n",
        "res = reg1.fit()\n",
        "print(res.summary())"
      ]
    },
    {
      "cell_type": "code",
      "execution_count": 76,
      "metadata": {},
      "outputs": [
        {
          "name": "stdout",
          "output_type": "stream",
          "text": [
            "β_0 = 4.6\n",
            "β_1 = 0.53\n"
          ]
        }
      ],
      "source": [
        "# Define the X and y variables (Use numpy)\n",
        "X=np.array(df1[['const', 'avexpr']])\n",
        "y=np.array(df1['logpgp95'])\n",
        "\n",
        "# Compute β_hat\n",
        "β_hat=np.dot( np.dot( np.linalg.inv( np.dot(np.transpose(X), X)), np.transpose(X)), y )\n",
        "\n",
        "# Print out the results from the 2 x 1 vector β_hat\n",
        "print(f'β_0 = {β_hat[0]:.2}')\n",
        "print(f'β_1 = {β_hat[1]:.2}')"
      ]
    },
    {
      "cell_type": "code",
      "execution_count": null,
      "metadata": {},
      "outputs": [],
      "source": []
    }
  ],
  "metadata": {
    "colab": {
      "provenance": []
    },
    "kernelspec": {
      "display_name": "base",
      "language": "python",
      "name": "python3"
    },
    "language_info": {
      "codemirror_mode": {
        "name": "ipython",
        "version": 3
      },
      "file_extension": ".py",
      "mimetype": "text/x-python",
      "name": "python",
      "nbconvert_exporter": "python",
      "pygments_lexer": "ipython3",
      "version": "3.11.7"
    }
  },
  "nbformat": 4,
  "nbformat_minor": 0
}
