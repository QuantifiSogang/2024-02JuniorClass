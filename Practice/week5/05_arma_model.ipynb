{
 "cells": [
  {
   "cell_type": "markdown",
   "metadata": {
    "id": "Ne13qzsvUlLZ"
   },
   "source": [
    "# Univariate Time Series\n",
    "\n",
    "Time Series는 OLS의 주요 가정 중 하나인 오차항의 공분산구조 $COV(\\epsilon_i,\\epsilon_j)=0$이 지켜지지 않는 경우를 다룬다. 이런 경우를 자기상관(Autocorrelation)이 존재한다고 한다. \n",
    "\n",
    "시계열 데이터의 경우, 현제 데이터는 과거 데이터와 연관을 가질 수 밖에 없다. 따라서 시계열 데이터에서는 자기상관이 존재할 수 밖에 없으며, OLS모델을 이용하는것은 부적절하다. 따라서 시계열 데이터를 모델링하기 위한 다른 방법을 사용해야 하며, 이 방법론이 AR, MA 모델이다\n",
    "\n",
    "더하여, Univariate Time Series(단변량 시계열)은 동일한 간격의 시간의 증가에 대해 순차적으로 기록된 한개의 변수로 구성된 시계열을 지칭한다."
   ]
  },
  {
   "cell_type": "markdown",
   "metadata": {},
   "source": [
    "## Linear Time Series\n",
    "\n",
    "### AR models\n",
    "\n",
    "예측력이 있는 가장 간단한 AR 모형은 다음과 같다\n",
    "$$r_t = \\phi_0 + \\phi_1 r_{t-1} + a_t$$\n",
    "여기에서  ${a_t}$ 는 평균이 0이고 분산이 $σ_a^2$인 white noise series이다. 즉, 오차항은 정규분포를 이룬다\n",
    "\n",
    "여기서 $\\mathrm{AR(1)}$ 모형은 과거 수익률 $r_{t−1}$을 조건으로 하는 조건부 모형을 의미한다고 볼 수 있다. 여기에서 우리는 다음과 같은 모형을 얻을 수 있다\n",
    "\n",
    "$$E(r_t|r_{t-1}) = \\phi_0 + \\phi_1 r_{t-1}, ~~~~~ \\mathrm{Var}(r_t|r_{t-1}) = \\mathrm{Var}(a_t) = \\sigma_a^2$$\n",
    "\n",
    "간단한 $\\mathrm{AR(1)}$모형의 일반화된 모형은 $\\mathrm{AR(p)}$ 모형으로, 다음과 같이 표현할 수 있다\n",
    "\n",
    "$$r_t = \\phi_0 + \\phi_1 r_{t-1} + \\cdots + \\phi_p r_{t-p} + a_t$$"
   ]
  },
  {
   "cell_type": "markdown",
   "metadata": {
    "id": "hsnYCEGbUlLd"
   },
   "source": [
    "### MA models\n",
    "\n",
    "$\\mathrm{MA(1)}$ 모델의 일반적인 형태는 다음과 같다\n",
    "\n",
    "$$r_t = c_0 + a_t - \\theta_1 a_{t-1}~~~\\mathrm{or}~~~r_t = c_0 + (1-\\theta_1 B)a_t$$\n",
    "\n",
    "마찬가지로 $\\mathrm{MA(1)}$모형의 일반화된 $\\mathrm{MA(q)}$ 모델은 다음과 같다\n",
    "\n",
    "$$r_t = c_0 + a_t - \\theta_1 a_{t-1} - \\cdots - \\theta_qa_{t-q}$$"
   ]
  },
  {
   "cell_type": "markdown",
   "metadata": {
    "id": "rJthzysHUlLe"
   },
   "source": [
    "### ARMA models\n",
    "\n",
    "시계열 $r_t$은 다음을 만족하는 경우 $\\mathrm{ARMA(1,1)}$ 모델을 따른다\n",
    "\n",
    "$$r_t = \\phi_0 + \\phi_1 r_{t-1} + a_t - \\theta_1 a_{t-1}$$\n",
    "\n",
    "마찬가지로 $\\mathrm{ARMA(1,1)}$모형이 일반화된 $\\mathrm{ARMA}(p,q)$ 모델은 다음과 같다\n",
    "\n",
    "$$r_t = \\phi_0 + \\sum_{i=1}^p \\phi_i r_{t-i} + a_t - \\sum_{i=1}^q \\theta_i a_{t-i}$$\n",
    "\n",
    "여기서 $\\phi$는 stationary에 관여하며, $\\theta$는 invertibility에 관여한다"
   ]
  },
  {
   "cell_type": "markdown",
   "metadata": {},
   "source": [
    "### ARIMA models\n",
    "\n",
    "시계열 $X_t$은 \n",
    "\n",
    "$$r_t=(1-B)^{d}X_t$$\n",
    "\n",
    "에서 $r_t$가 $\\mathrm{ARMA(p,q)}$ process이면 $X_t$는 $\\mathrm{ARIMA(p,d,q)}$ 모델을 따른다(단, d는 음이 아닌 정수)"
   ]
  },
  {
   "cell_type": "markdown",
   "metadata": {
    "id": "V4UeIfdfUlLe"
   },
   "source": [
    "**Partial Autocorrelation Function (PACF)**\n",
    "\n",
    "고정 시계열의 $\\mathrm{PACF}$는 $\\mathrm{ACF}$의 함수이며 $\\mathrm{AR}$ 모델의 순서 $\\mathrm{p}$를 결정하는 데 유용한 도구이다\n",
    "\n",
    "$\\mathrm{PACF}$를 사용하는 가장 간단하지만 효과적인 방법은 다음 $\\mathrm{AR}$ 모델을 연속 순서로 고려하는 것이다\n",
    "\n",
    "<img src = './PACF.png' alt = \"Image Title\" width = \"500\">\n",
    "\n",
    "여기서 $\\phi_{0,j}, \\phi_{i,j}$와 $\\{e_{jt}\\}$는 각각 상수항과 $r_{t-i}$의 계수, AR(j)모형의 오차항이다. 추정치 $\\hat \\phi_{1,1}$를 시계열 $r_t$의 lag-1 sample PACF라고 한다. 그 다음의 추정치 $\\hat \\phi_{2,2}$를 시계열 $r_t$의 lag-2 sample PACF라고 한다\n",
    "\n",
    "이러한 정의에 따라서, 다음과 같은 정의로 PACF를 설명할 수 있다\n",
    "\n",
    "- lag-p의 sample PACF는 추정치 $\\hat \\phi_{p,p}$이다\n",
    "\n"
   ]
  },
  {
   "cell_type": "markdown",
   "metadata": {
    "id": "0hFtJeS2UlLf"
   },
   "source": [
    "### 정보 기준(information Criteria)\n",
    "\n",
    "모델을 선정하기 위해 여러개의 모형을 설계하면, 어떤 모형을 선정해야 하는지 모호할 때가 많다. 이 때 사용하는 기준이 바로 정보 기준이다.\n",
    "\n",
    "정보기준은 크게 두 가지가 사용되는데, 각각 AIC(Akaike Information Criterion)과 BIC(Bayes Information Criterion)라고 한다\n",
    "\n",
    "**AIC**\n",
    "$$\\mathrm{AIC} = \\frac{-2}{T} \\ln (\\mathrm{likelihood}) + \\frac{2}{T} \\times (\\mathrm{number of parameteres}) $$\n",
    "$$\\mathrm{AIC}(l) = \\ln(\\tilde \\sigma_l^2) + \\frac{2l}{T}$$\n",
    "\n",
    "**BIC**\n",
    "$$\\mathrm{BIC}(l) = \\ln(\\tilde\\sigma_l^2) + \\frac{l\\ln (T)}{T}$$\n",
    "\n",
    "모형을 선택할 때에는 정보 기준의 값이 작을수록 설명력이 더 좋은 모형이며, AIC보다 BIC가 더욱 엄밀하게 정의되기 때문에 상황에 따라 AIC와 BIC의 선택이 달라진다"
   ]
  },
  {
   "cell_type": "markdown",
   "metadata": {
    "id": "xds3dGdOUlLf"
   },
   "source": [
    "#### example 1\n",
    "\n",
    "자산을 하나 지정하여 AR모형을 직접 제작해 보자. yfinance를 이용하여 Apple의 주가를 가져오도록 한다"
   ]
  },
  {
   "cell_type": "code",
   "execution_count": 1,
   "metadata": {
    "ExecuteTime": {
     "end_time": "2023-07-27T03:05:49.462641Z",
     "start_time": "2023-07-27T03:05:48.552900Z"
    },
    "colab": {
     "base_uri": "https://localhost:8080/",
     "height": 472
    },
    "executionInfo": {
     "elapsed": 1174,
     "status": "ok",
     "timestamp": 1693557230483,
     "user": {
      "displayName": "harborship",
      "userId": "14186759060292545698"
     },
     "user_tz": -540
    },
    "id": "CyRFghp8UlLf",
    "outputId": "1740ef77-c899-4def-8b62-01252c94c719"
   },
   "outputs": [
    {
     "name": "stderr",
     "output_type": "stream",
     "text": [
      "D:\\ANACONDA\\lib\\site-packages\\pandas\\core\\computation\\expressions.py:20: UserWarning: Pandas requires version '2.7.3' or newer of 'numexpr' (version '2.7.1' currently installed).\n",
      "  from pandas.core.computation.check import NUMEXPR_INSTALLED\n"
     ]
    },
    {
     "name": "stdout",
     "output_type": "stream",
     "text": [
      "[*********************100%%**********************]  1 of 1 completed\n"
     ]
    },
    {
     "data": {
      "text/html": [
       "<div>\n",
       "<style scoped>\n",
       "    .dataframe tbody tr th:only-of-type {\n",
       "        vertical-align: middle;\n",
       "    }\n",
       "\n",
       "    .dataframe tbody tr th {\n",
       "        vertical-align: top;\n",
       "    }\n",
       "\n",
       "    .dataframe thead th {\n",
       "        text-align: right;\n",
       "    }\n",
       "</style>\n",
       "<table border=\"1\" class=\"dataframe\">\n",
       "  <thead>\n",
       "    <tr style=\"text-align: right;\">\n",
       "      <th></th>\n",
       "      <th>Open</th>\n",
       "      <th>High</th>\n",
       "      <th>Low</th>\n",
       "      <th>Close</th>\n",
       "      <th>Adj Close</th>\n",
       "      <th>Volume</th>\n",
       "    </tr>\n",
       "    <tr>\n",
       "      <th>Date</th>\n",
       "      <th></th>\n",
       "      <th></th>\n",
       "      <th></th>\n",
       "      <th></th>\n",
       "      <th></th>\n",
       "      <th></th>\n",
       "    </tr>\n",
       "  </thead>\n",
       "  <tbody>\n",
       "    <tr>\n",
       "      <th>2020-01-02</th>\n",
       "      <td>74.059998</td>\n",
       "      <td>75.150002</td>\n",
       "      <td>73.797501</td>\n",
       "      <td>75.087502</td>\n",
       "      <td>73.059418</td>\n",
       "      <td>135480400</td>\n",
       "    </tr>\n",
       "    <tr>\n",
       "      <th>2020-01-03</th>\n",
       "      <td>74.287498</td>\n",
       "      <td>75.144997</td>\n",
       "      <td>74.125000</td>\n",
       "      <td>74.357498</td>\n",
       "      <td>72.349136</td>\n",
       "      <td>146322800</td>\n",
       "    </tr>\n",
       "    <tr>\n",
       "      <th>2020-01-06</th>\n",
       "      <td>73.447502</td>\n",
       "      <td>74.989998</td>\n",
       "      <td>73.187500</td>\n",
       "      <td>74.949997</td>\n",
       "      <td>72.925629</td>\n",
       "      <td>118387200</td>\n",
       "    </tr>\n",
       "    <tr>\n",
       "      <th>2020-01-07</th>\n",
       "      <td>74.959999</td>\n",
       "      <td>75.224998</td>\n",
       "      <td>74.370003</td>\n",
       "      <td>74.597504</td>\n",
       "      <td>72.582649</td>\n",
       "      <td>108872000</td>\n",
       "    </tr>\n",
       "    <tr>\n",
       "      <th>2020-01-08</th>\n",
       "      <td>74.290001</td>\n",
       "      <td>76.110001</td>\n",
       "      <td>74.290001</td>\n",
       "      <td>75.797501</td>\n",
       "      <td>73.750237</td>\n",
       "      <td>132079200</td>\n",
       "    </tr>\n",
       "    <tr>\n",
       "      <th>...</th>\n",
       "      <td>...</td>\n",
       "      <td>...</td>\n",
       "      <td>...</td>\n",
       "      <td>...</td>\n",
       "      <td>...</td>\n",
       "      <td>...</td>\n",
       "    </tr>\n",
       "    <tr>\n",
       "      <th>2023-06-23</th>\n",
       "      <td>185.550003</td>\n",
       "      <td>187.559998</td>\n",
       "      <td>185.009995</td>\n",
       "      <td>186.679993</td>\n",
       "      <td>185.945679</td>\n",
       "      <td>53079300</td>\n",
       "    </tr>\n",
       "    <tr>\n",
       "      <th>2023-06-26</th>\n",
       "      <td>186.830002</td>\n",
       "      <td>188.050003</td>\n",
       "      <td>185.229996</td>\n",
       "      <td>185.270004</td>\n",
       "      <td>184.541245</td>\n",
       "      <td>48088700</td>\n",
       "    </tr>\n",
       "    <tr>\n",
       "      <th>2023-06-27</th>\n",
       "      <td>185.889999</td>\n",
       "      <td>188.389999</td>\n",
       "      <td>185.669998</td>\n",
       "      <td>188.059998</td>\n",
       "      <td>187.320267</td>\n",
       "      <td>50730800</td>\n",
       "    </tr>\n",
       "    <tr>\n",
       "      <th>2023-06-28</th>\n",
       "      <td>187.929993</td>\n",
       "      <td>189.899994</td>\n",
       "      <td>187.600006</td>\n",
       "      <td>189.250000</td>\n",
       "      <td>188.505585</td>\n",
       "      <td>51216800</td>\n",
       "    </tr>\n",
       "    <tr>\n",
       "      <th>2023-06-29</th>\n",
       "      <td>189.080002</td>\n",
       "      <td>190.070007</td>\n",
       "      <td>188.940002</td>\n",
       "      <td>189.589996</td>\n",
       "      <td>188.844254</td>\n",
       "      <td>46347300</td>\n",
       "    </tr>\n",
       "  </tbody>\n",
       "</table>\n",
       "<p>879 rows × 6 columns</p>\n",
       "</div>"
      ],
      "text/plain": [
       "                  Open        High         Low       Close   Adj Close  \\\n",
       "Date                                                                     \n",
       "2020-01-02   74.059998   75.150002   73.797501   75.087502   73.059418   \n",
       "2020-01-03   74.287498   75.144997   74.125000   74.357498   72.349136   \n",
       "2020-01-06   73.447502   74.989998   73.187500   74.949997   72.925629   \n",
       "2020-01-07   74.959999   75.224998   74.370003   74.597504   72.582649   \n",
       "2020-01-08   74.290001   76.110001   74.290001   75.797501   73.750237   \n",
       "...                ...         ...         ...         ...         ...   \n",
       "2023-06-23  185.550003  187.559998  185.009995  186.679993  185.945679   \n",
       "2023-06-26  186.830002  188.050003  185.229996  185.270004  184.541245   \n",
       "2023-06-27  185.889999  188.389999  185.669998  188.059998  187.320267   \n",
       "2023-06-28  187.929993  189.899994  187.600006  189.250000  188.505585   \n",
       "2023-06-29  189.080002  190.070007  188.940002  189.589996  188.844254   \n",
       "\n",
       "               Volume  \n",
       "Date                   \n",
       "2020-01-02  135480400  \n",
       "2020-01-03  146322800  \n",
       "2020-01-06  118387200  \n",
       "2020-01-07  108872000  \n",
       "2020-01-08  132079200  \n",
       "...               ...  \n",
       "2023-06-23   53079300  \n",
       "2023-06-26   48088700  \n",
       "2023-06-27   50730800  \n",
       "2023-06-28   51216800  \n",
       "2023-06-29   46347300  \n",
       "\n",
       "[879 rows x 6 columns]"
      ]
     },
     "execution_count": 1,
     "metadata": {},
     "output_type": "execute_result"
    }
   ],
   "source": [
    "import yfinance as yf\n",
    "\n",
    "start_date = '2020-01-01'\n",
    "end_date = '2023-06-30'\n",
    "\n",
    "apple = yf.download('AAPL', start = start_date, end = end_date)\n",
    "apple"
   ]
  },
  {
   "cell_type": "markdown",
   "metadata": {
    "id": "lFKBi4CfUlLh"
   },
   "source": [
    "apple의 종가의 차분 시계열 또한 구해야 한다"
   ]
  },
  {
   "cell_type": "code",
   "execution_count": 2,
   "metadata": {
    "ExecuteTime": {
     "end_time": "2023-07-27T03:05:49.474571Z",
     "start_time": "2023-07-27T03:05:49.465410Z"
    },
    "colab": {
     "base_uri": "https://localhost:8080/"
    },
    "executionInfo": {
     "elapsed": 11,
     "status": "ok",
     "timestamp": 1693557230485,
     "user": {
      "displayName": "harborship",
      "userId": "14186759060292545698"
     },
     "user_tz": -540
    },
    "id": "jhYwd6sSUlLi",
    "outputId": "a199693b-e7ea-463c-ab7a-61a984896503"
   },
   "outputs": [
    {
     "data": {
      "text/plain": [
       "Date\n",
       "2020-01-03   -0.009770\n",
       "2020-01-06    0.007937\n",
       "2020-01-07   -0.004714\n",
       "2020-01-08    0.015958\n",
       "2020-01-09    0.021018\n",
       "                ...   \n",
       "2023-06-23   -0.001713\n",
       "2023-06-26   -0.007582\n",
       "2023-06-27    0.014947\n",
       "2023-06-28    0.006308\n",
       "2023-06-29    0.001795\n",
       "Name: Close, Length: 878, dtype: float64"
      ]
     },
     "execution_count": 2,
     "metadata": {},
     "output_type": "execute_result"
    }
   ],
   "source": [
    "import numpy as np\n",
    "ret = np.log(apple.Close) - np.log(apple.Close.shift())\n",
    "ret = ret.dropna()\n",
    "ret"
   ]
  },
  {
   "cell_type": "markdown",
   "metadata": {
    "id": "i-9LSBcjUlLi"
   },
   "source": [
    "**AR 차수 구하기**\n",
    "\n",
    "Partial ACF의 형태를 보고 AR의 차수를 구할 수 있다."
   ]
  },
  {
   "cell_type": "code",
   "execution_count": 3,
   "metadata": {
    "ExecuteTime": {
     "end_time": "2023-07-27T03:05:49.780238Z",
     "start_time": "2023-07-27T03:05:49.491893Z"
    },
    "colab": {
     "base_uri": "https://localhost:8080/",
     "height": 411
    },
    "executionInfo": {
     "elapsed": 9,
     "status": "ok",
     "timestamp": 1693557230485,
     "user": {
      "displayName": "harborship",
      "userId": "14186759060292545698"
     },
     "user_tz": -540
    },
    "id": "cTx6zmC0UlLj",
    "outputId": "a41b6eb2-faa9-4aea-ba1d-32e15418814c"
   },
   "outputs": [
    {
     "data": {
      "image/png": "[encoded data removed]",
      "text/plain": [
       "<Figure size 432x288 with 1 Axes>"
      ]
     },
     "metadata": {
      "needs_background": "light"
     },
     "output_type": "display_data"
    }
   ],
   "source": [
    "import matplotlib.pyplot as plt\n",
    "from statsmodels.graphics.tsaplots import plot_acf, plot_pacf\n",
    "plot_pacf(ret, auto_ylims = True, lags = range(1, 31), method = 'ywm')\n",
    "plt.xlabel('Time lags', fontsize = 10)\n",
    "plt.grid(False)\n",
    "plt.title('Partial Auto Correlation Function')\n",
    "plt.show()"
   ]
  },
  {
   "cell_type": "markdown",
   "metadata": {
    "id": "vtk2i8pkUlLj"
   },
   "source": [
    "AR 차수는 9가 적절하다. 기각역을 벗어난 지점을 생각해 어느정도 주관적 판단이 필요하다"
   ]
  },
  {
   "cell_type": "markdown",
   "metadata": {
    "id": "yyA6eAA9UlLj"
   },
   "source": [
    "**MA 차수 구하기**\n",
    "\n",
    "ACF의 형태를 보고 MA의 차수를 구할 수 있다."
   ]
  },
  {
   "cell_type": "code",
   "execution_count": 6,
   "metadata": {
    "ExecuteTime": {
     "end_time": "2023-07-27T03:05:49.926577Z",
     "start_time": "2023-07-27T03:05:49.773809Z"
    },
    "colab": {
     "base_uri": "https://localhost:8080/",
     "height": 411
    },
    "executionInfo": {
     "elapsed": 363,
     "status": "ok",
     "timestamp": 1693557230839,
     "user": {
      "displayName": "harborship",
      "userId": "14186759060292545698"
     },
     "user_tz": -540
    },
    "id": "SBB3af2vUlLj",
    "outputId": "c65dbdaf-8b02-4ec0-bbf1-315f7e1252dd"
   },
   "outputs": [
    {
     "data": {
      "image/png": "[encoded data removed]",
      "text/plain": [
       "<Figure size 432x288 with 1 Axes>"
      ]
     },
     "metadata": {
      "needs_background": "light"
     },
     "output_type": "display_data"
    }
   ],
   "source": [
    "plot_acf(ret, auto_ylims = True, lags = range(1, 31))\n",
    "plt.xlabel('Time lags', fontsize = 10)\n",
    "plt.grid(False)\n",
    "plt.title('Auto Correlation Function')\n",
    "plt.show()"
   ]
  },
  {
   "cell_type": "markdown",
   "metadata": {
    "id": "IOc8oTEyUlLj"
   },
   "source": [
    "MA 차수는 기각역을 벗어난 9가 적절하다. 마찬가지로, 실험자의 관점에 따라서 최종적으로 기각역을 벗어나는 지점은 26으로 지정하는 경우도 있으니 주의해야 한다"
   ]
  },
  {
   "cell_type": "markdown",
   "metadata": {
    "id": "CuDlQp-oUlLj"
   },
   "source": [
    "최종적으로, $\\mathrm{ARMA(9,9)}$모형을 채택하였다. `statsmodels.api`의 `ARIMA()`함수를 사용하면 fitting이 가능하다\n",
    "\n",
    "**주의사항**\n",
    "- `ARIMA()` 함수 내에는 로그화된 원 시계열을 사용해야 한다. 왜냐하면 ARMA모형은 시계열 모형이므로, 정상 확률과정인 return에 모델을 적용하는 것이 아닌 로그화된 원 시계열 데이터에 적용해야 한다\n",
    "- fitting method는 보통 innovation MLE가 사용된다"
   ]
  },
  {
   "cell_type": "markdown",
   "metadata": {},
   "source": [
    "ARMA 차수를 구하는 다른 방법으로, `pmarima`의 `auto_arima` 를 사용하는 방법도 존재한다. 이 방법은 hyperparameter로 주어진 정보 조건을 최소화 하는 차수를 찾아주는 역할을 한다. 정보 조건으로 사용할 수 있는 hyperparameter는 Akaike Information Criterion, Corrected Akaike Information Criterion, Bayesian Information Criterion, Hannan-Quinn Information Criterion, or “out of bag”–for validation scoring–respectively가 존재한다. \n",
    "\n",
    "단, 과적합의 가능성이 있으므로 신중히 사용해야 한다."
   ]
  },
  {
   "cell_type": "code",
   "execution_count": 38,
   "metadata": {},
   "outputs": [
    {
     "name": "stdout",
     "output_type": "stream",
     "text": [
      " ARIMA(0,1,0)(0,0,0)[0] intercept   : AIC=-4195.426, Time=0.22 sec\n",
      " ARIMA(0,1,1)(0,0,0)[0] intercept   : AIC=-4211.152, Time=0.15 sec\n",
      " ARIMA(0,1,2)(0,0,0)[0] intercept   : AIC=-4209.506, Time=0.20 sec\n",
      " ARIMA(0,1,3)(0,0,0)[0] intercept   : AIC=-4208.111, Time=0.58 sec\n",
      " ARIMA(0,1,4)(0,0,0)[0] intercept   : AIC=-4206.126, Time=1.73 sec\n",
      " ARIMA(0,1,5)(0,0,0)[0] intercept   : AIC=-4206.263, Time=0.82 sec\n",
      " ARIMA(1,1,0)(0,0,0)[0] intercept   : AIC=-4211.619, Time=0.10 sec\n",
      " ARIMA(1,1,1)(0,0,0)[0] intercept   : AIC=-4209.653, Time=0.25 sec\n",
      " ARIMA(1,1,2)(0,0,0)[0] intercept   : AIC=-4207.572, Time=0.51 sec\n",
      " ARIMA(1,1,3)(0,0,0)[0] intercept   : AIC=-4206.087, Time=0.79 sec\n",
      " ARIMA(1,1,4)(0,0,0)[0] intercept   : AIC=-4204.160, Time=1.30 sec\n",
      " ARIMA(2,1,0)(0,0,0)[0] intercept   : AIC=-4209.646, Time=0.33 sec\n",
      " ARIMA(2,1,1)(0,0,0)[0] intercept   : AIC=-4207.634, Time=0.55 sec\n",
      " ARIMA(2,1,2)(0,0,0)[0] intercept   : AIC=-4205.775, Time=1.56 sec\n",
      " ARIMA(2,1,3)(0,0,0)[0] intercept   : AIC=-4204.070, Time=1.12 sec\n",
      " ARIMA(3,1,0)(0,0,0)[0] intercept   : AIC=-4207.857, Time=0.30 sec\n",
      " ARIMA(3,1,1)(0,0,0)[0] intercept   : AIC=-4205.903, Time=0.20 sec\n",
      " ARIMA(3,1,2)(0,0,0)[0] intercept   : AIC=-4203.907, Time=1.03 sec\n",
      " ARIMA(4,1,0)(0,0,0)[0] intercept   : AIC=-4206.542, Time=0.32 sec\n",
      " ARIMA(4,1,1)(0,0,0)[0] intercept   : AIC=-4204.371, Time=1.25 sec\n",
      " ARIMA(5,1,0)(0,0,0)[0] intercept   : AIC=-4207.411, Time=0.71 sec\n",
      "\n",
      "Best model:  ARIMA(1,1,0)(0,0,0)[0] intercept\n",
      "Total fit time: 14.048 seconds\n"
     ]
    }
   ],
   "source": [
    "import pmdarima as pm\n",
    "\n",
    "model = pm.auto_arima(\n",
    "            y=np.log(apple.Close), \n",
    "            d=1, \n",
    "            start_p=0, max_p=10, \n",
    "            start_q=0, max_q=10, \n",
    "            m=1, seasonal=False, # 계절성이 없음!\n",
    "            stepwise=False,\n",
    "            trace=True\n",
    ")"
   ]
  },
  {
   "cell_type": "code",
   "execution_count": 39,
   "metadata": {
    "ExecuteTime": {
     "end_time": "2023-07-27T13:30:06.312988Z",
     "start_time": "2023-07-27T13:30:06.057980Z"
    },
    "colab": {
     "base_uri": "https://localhost:8080/"
    },
    "executionInfo": {
     "elapsed": 306,
     "status": "ok",
     "timestamp": 1693557231143,
     "user": {
      "displayName": "harborship",
      "userId": "14186759060292545698"
     },
     "user_tz": -540
    },
    "id": "4eAX94MhUlLk",
    "outputId": "0f5c3556-5b1a-4bfd-e0c6-5160ceeb27ec"
   },
   "outputs": [
    {
     "name": "stdout",
     "output_type": "stream",
     "text": [
      "                               SARIMAX Results                                \n",
      "==============================================================================\n",
      "Dep. Variable:                  Close   No. Observations:                  879\n",
      "Model:                 ARIMA(1, 1, 0)   Log Likelihood                2107.482\n",
      "Date:                Wed, 17 Apr 2024   AIC                          -4210.964\n",
      "Time:                        20:48:10   BIC                          -4201.408\n",
      "Sample:                             0   HQIC                         -4207.309\n",
      "                                - 879                                         \n",
      "Covariance Type:                  opg                                         \n",
      "==============================================================================\n",
      "                 coef    std err          z      P>|z|      [0.025      0.975]\n",
      "------------------------------------------------------------------------------\n",
      "ar.L1         -0.1405      0.022     -6.421      0.000      -0.183      -0.098\n",
      "sigma2         0.0005   1.44e-05     33.328      0.000       0.000       0.001\n",
      "===================================================================================\n",
      "Ljung-Box (L1) (Q):                   0.00   Jarque-Bera (JB):               517.88\n",
      "Prob(Q):                              0.95   Prob(JB):                         0.00\n",
      "Heteroskedasticity (H):               0.53   Skew:                            -0.16\n",
      "Prob(H) (two-sided):                  0.00   Kurtosis:                         6.75\n",
      "===================================================================================\n",
      "\n",
      "Warnings:\n",
      "[1] Covariance matrix calculated using the outer product of gradients (complex-step).\n"
     ]
    }
   ],
   "source": [
    "import statsmodels.api as sm\n",
    "import warnings\n",
    "warnings.filterwarnings(\"ignore\")\n",
    "model = sm.tsa.ARIMA(np.log(apple.Close), order = (1,1,0)).fit(method = 'innovations_mle')\n",
    "print(model.summary())"
   ]
  },
  {
   "cell_type": "markdown",
   "metadata": {
    "id": "tOVH8GXDUlLk"
   },
   "source": [
    "Jarque-Bera 통계량의 p-value가 0으로 나타나 정규성도 뛰어나다고 볼 수 있다"
   ]
  },
  {
   "cell_type": "code",
   "execution_count": 40,
   "metadata": {
    "ExecuteTime": {
     "end_time": "2023-07-27T03:05:50.659969Z",
     "start_time": "2023-07-27T03:05:50.097003Z"
    },
    "colab": {
     "base_uri": "https://localhost:8080/",
     "height": 486
    },
    "executionInfo": {
     "elapsed": 2449,
     "status": "ok",
     "timestamp": 1693557233590,
     "user": {
      "displayName": "harborship",
      "userId": "14186759060292545698"
     },
     "user_tz": -540
    },
    "id": "b7wt6FJMUlLk",
    "outputId": "c0463ed8-e9e8-41d2-9989-23cf4539e68f"
   },
   "outputs": [
    {
     "data": {
      "text/plain": [
       "Text(0.5, 1.0, 'Residual vs. Normal')"
      ]
     },
     "execution_count": 40,
     "metadata": {},
     "output_type": "execute_result"
    },
    {
     "data": {
      "image/png": "[encoded data removed]",
      "text/plain": [
       "<Figure size 800x500 with 1 Axes>"
      ]
     },
     "metadata": {
      "needs_background": "light"
     },
     "output_type": "display_data"
    }
   ],
   "source": [
    "import seaborn as sns\n",
    "fig, ax1 = plt.subplots(figsize=(8,5), dpi=100)\n",
    "sns.distplot(np.random.normal(size=100000), kde = True, ax = ax1, label = 'Normal Distribution')\n",
    "sns.distplot(np.log(model.resid) - np.log(model.resid).mean() ,\n",
    "             kde = True, rug = False , ax = ax1, label = 'Log Residual Distribution')\n",
    "plt.legend()\n",
    "plt.title('Residual vs. Normal', fontsize = 15, fontfamily = 'Serif')"
   ]
  },
  {
   "cell_type": "markdown",
   "metadata": {
    "id": "0Knd_B0pUlLk"
   },
   "source": [
    "시계열 모형이 제대로 추정되었는지 확인하기 위해, 잔차 분포를 꼭 확인해야 한다.\n",
    "\n",
    "적합화된 모형의 분포를 확인한 결과, 정규분포에 비해 왜도가 약간 존재하고 첨도가 좀 더 높은 것으로 드러났다. 이는 금융 시계열 데이터 자체의 특징이다\n"
   ]
  },
  {
   "cell_type": "code",
   "execution_count": 41,
   "metadata": {
    "ExecuteTime": {
     "end_time": "2023-07-27T03:12:07.906818Z",
     "start_time": "2023-07-27T03:12:07.065289Z"
    },
    "colab": {
     "base_uri": "https://localhost:8080/",
     "height": 641
    },
    "executionInfo": {
     "elapsed": 1730,
     "status": "ok",
     "timestamp": 1693557235317,
     "user": {
      "displayName": "harborship",
      "userId": "14186759060292545698"
     },
     "user_tz": -540
    },
    "id": "HoXEE-SNUlLk",
    "outputId": "16505440-7e41-4496-a7db-95fbd9aa1e44"
   },
   "outputs": [
    {
     "data": {
      "image/png": "[encoded data removed]",
      "text/plain": [
       "<Figure size 1008x504 with 4 Axes>"
      ]
     },
     "metadata": {
      "needs_background": "light"
     },
     "output_type": "display_data"
    }
   ],
   "source": [
    "model.plot_diagnostics(figsize = (14,7))\n",
    "plt.show()"
   ]
  },
  {
   "cell_type": "markdown",
   "metadata": {
    "id": "xdD_62bcUlLk"
   },
   "source": [
    "`plot_diagnostics()` method를 사용하면 위와 같이 편리하게 모델의 정상성을 확인할 수 있다."
   ]
  },
  {
   "cell_type": "markdown",
   "metadata": {
    "id": "JdTPRkKGUlLl"
   },
   "source": [
    "#### Exercise 1\n",
    "\n",
    "2020년 1월 1일부터 2023년 6월 30일까지의 KOSPI index 데이터를 가져와 종가 데이터를 수집한 뒤, ARMA모형을 직접 추정해 보자. 그리고 추정된 모형의 정상성을 확인해 보자. 어떠한 특성을 띄는가? 잔차는 정규분포를 충족하는가? yfinance 혹은 pandas datareader 둘 중 어느것을 사용해도 상관없다"
   ]
  },
  {
   "cell_type": "code",
   "execution_count": null,
   "metadata": {
    "colab": {
     "base_uri": "https://localhost:8080/",
     "height": 1000
    },
    "executionInfo": {
     "elapsed": 1676,
     "status": "ok",
     "timestamp": 1693557236991,
     "user": {
      "displayName": "harborship",
      "userId": "14186759060292545698"
     },
     "user_tz": -540
    },
    "id": "nsyZYk7kh3hp",
    "outputId": "7d34c5ea-61f4-4273-fee2-d925c7ce239b"
   },
   "outputs": [
    {
     "data": {
      "image/png": "[encoded data removed]",
      "text/plain": [
       "<Figure size 576x288 with 1 Axes>"
      ]
     },
     "metadata": {
      "needs_background": "light"
     },
     "output_type": "display_data"
    },
    {
     "data": {
      "image/png": "[encoded data removed]",
      "text/plain": [
       "<Figure size 576x288 with 1 Axes>"
      ]
     },
     "metadata": {
      "needs_background": "light"
     },
     "output_type": "display_data"
    },
    {
     "name": "stdout",
     "output_type": "stream",
     "text": [
      "                               SARIMAX Results                                \n",
      "==============================================================================\n",
      "Dep. Variable:                  Close   No. Observations:                  865\n",
      "Model:                 ARIMA(2, 1, 2)   Log Likelihood                2527.996\n",
      "Date:                Wed, 17 Apr 2024   AIC                          -5045.991\n",
      "Time:                        20:43:04   BIC                          -5022.183\n",
      "Sample:                             0   HQIC                         -5036.879\n",
      "                                - 865                                         \n",
      "Covariance Type:                  opg                                         \n",
      "==============================================================================\n",
      "                 coef    std err          z      P>|z|      [0.025      0.975]\n",
      "------------------------------------------------------------------------------\n",
      "ar.L1          0.2333      0.145      1.606      0.108      -0.051       0.518\n",
      "ar.L2         -0.0220      0.142     -0.155      0.877      -0.301       0.257\n",
      "ma.L1         -0.2515      0.152     -1.649      0.099      -0.550       0.047\n",
      "ma.L2          0.1456      0.149      0.976      0.329      -0.147       0.438\n",
      "sigma2         0.0002   4.28e-06     39.301      0.000       0.000       0.000\n",
      "===================================================================================\n",
      "Ljung-Box (L1) (Q):                   0.00   Jarque-Bera (JB):              1145.56\n",
      "Prob(Q):                              0.99   Prob(JB):                         0.00\n",
      "Heteroskedasticity (H):               0.37   Skew:                            -0.03\n",
      "Prob(H) (two-sided):                  0.00   Kurtosis:                         8.64\n",
      "===================================================================================\n",
      "\n",
      "Warnings:\n",
      "[1] Covariance matrix calculated using the outer product of gradients (complex-step).\n"
     ]
    }
   ],
   "source": [
    "import datetime\n",
    "import pandas_datareader as pdr\n",
    "\n",
    "start_date = datetime.datetime(2020, 1, 1)\n",
    "end_date = datetime.datetime(2023, 6, 30)\n"
   ]
  },
  {
   "cell_type": "markdown",
   "metadata": {
    "id": "ypIzBbxxUlLl"
   },
   "source": [
    "## 3. Linear Time Series Forecasting\n",
    "\n",
    "예측은 시계열 분석 분야에서 중요한 응용 분야 중 하나이다. AR모형 뿐만 아니라, MA, ARMA, ARIMA 등 타 시계열 모형 모두 prediction이 가능하다. statsmodels에는 prediction을 위한 method가 구현이 되어 있다\n",
    "\n",
    "$$E\\{[r_{h+l}-\\hat r_h(l)]^2|F_h\\} \\geq \\min_g E[(r_{h+l} - g)^2|F_h]$$\n",
    "\n",
    "여기서 $g$는 시간 $h$에서 이용 가능한 모든 정보의 집합이다. 즉, 예측값의 조건부 분산은 IID가정과 weak stationarity의 가정을 가지는 하에서 최소 분산의 값을 갖는 예측치이다. 이를 일반화하면 아래와 같이 설명이 가능하다\n",
    "\n",
    "1. 분포가 IID 가정을 따르고, weak stationary한 시계열일 때, **예측값의 분산은 효율적인 최소 분산 추정치**이다\n",
    "2. 분포가 IID 가정을 따르지 못하고 stationary하지 못할 때, **예측값의 분산은 최소 분산이 아닐지라도 효율적인 추정치**일 수 있다\n",
    "\n",
    "어느 경우에도 예측된 값은 효율적인 추정치이기 때문에, 추정된 값을 사용할 수 있다(단, IID가정이 깨질 경우 편향은 어느정도 감수해야 한다)"
   ]
  },
  {
   "cell_type": "markdown",
   "metadata": {
    "id": "yQ3qvYLDUlLl"
   },
   "source": [
    "### 3.1 One step ahead AR model Forecasting\n",
    "\n",
    "$\\mathrm{AR}(p)$모형으로부터, 현재시간이 $h$일 때 1기 이후의 모형을 다음과 같이 쓸 수 있다\n",
    "\n",
    "$$r_{h+1} = \\phi_0 + \\phi_1 r_h + \\cdots + \\phi_p r_{h+1-p} + a_{h+1}$$\n",
    "\n",
    "loss function이 MSE일 때, $h$기의 사용가능한 모든 정보집합 $F_h$ 하에서 $h+1$기의 조건부 예측값은 다음과 같다\n",
    "\n",
    "$$\\hat r_h(1) = E(r_{h+1}|F_h) = \\phi_0 \\sum_{i=1}^p \\phi_i r_{h+1-i}$$\n",
    "\n",
    "그리고 예측오류는\n",
    "\n",
    "$$e_h(1) = r_{h+1} - \\hat r_h(1) = a_{h+1}$$\n",
    "\n",
    "이다"
   ]
  },
  {
   "cell_type": "markdown",
   "metadata": {
    "id": "cVgYT9YHUlLl"
   },
   "source": [
    "### 3.2 Multistep ahead AR model Forecasting\n",
    "\n",
    "위 과정을 일반화 하면\n",
    "\n",
    "$$r_{h+l} = \\phi_0 + \\phi_1 r_{h+l-1} + \\cdots + \\phi_p r_{h+l-p} + a_{h+l}$$\n",
    "\n",
    "로 표현이 가능하다.<br>\n",
    "MSE 비용 함수에 기반한 $h+l-1$기의 사용가능한 모든 정보집합 $F_h$ 하에서 $h+1$기의 조건부 $l$-step-ahead 예측값은\n",
    "\n",
    "$$\\hat r_h(l) = E(r_{h+l}|F_h) = \\phi_0 + \\sum_{i=1}^p \\phi_i \\hat r_{h}(l-i)$$\n",
    "\n",
    "이다"
   ]
  },
  {
   "cell_type": "markdown",
   "metadata": {
    "id": "fhjZRc4gUlLl"
   },
   "source": [
    "### 3.3 Forecasting Using MA models\n",
    "\n",
    "MA 모형을 이용한 예측은 쉽게 설명이 가능하다. 모형의 메모리가 한정되어 있기 때문에, 어느 한 시점에서의 예측값은 빠르게 시계열의 평균으로 회귀한다. $h$기에서 사용가능한 정보집합 $F_h$이 주어져 있다고 할 때, $\\mathrm{MA}(1)$모형의 1-step-ahead 예측값은\n",
    "\n",
    "$$r_{h+1} = c_0 + a_{h+1} - \\theta_1 a_h$$\n",
    "이다. 추정된 예측값과 예측오차를 조건부 확률로 표기하면 다음과 같다\n",
    "$$\\hat r_h(1) = E(r_{h+1}|F_h) = c_0 - \\theta_1 a_h$$\n",
    "$$e_h(1) = r_{h+1} - \\hat r_h(1) = a_{h+1}$$\n",
    "\n",
    "여기에서, 1-step-ahead 예측오차의 분산은 $\\mathrm{Var}[e_h(1)] = \\sigma_a^2$이다. 더 나아가 2-step-ahead 예측치는 다음과 같이 표기할 수 있다\n",
    "\n",
    "$$r_{h+2} = c_0 + a_{h+2} - \\theta_1 a_{h+1}$$\n",
    "\n",
    "여기서 우리는 다음과 같이 예측값과 예측오차의 추정치는 다음과 같다\n",
    "\n",
    "$$\\hat r_h(2) = E(r_{h+2}|F_h) = c_0$$\n",
    "$$e_h(2) = r_{h+2} - \\hat r_h(2) = a_{h+2} - \\theta_1a_{h+1}$$\n",
    "\n",
    "2-step-ahead 예측오차의 분산은 $\\mathrm{Var}[e_h(2)] = (1+\\theta_1^2)\\sigma_a^2$이다.이는 모형의 분산이고 1-step-ahead 예측 오차의 분산보다 크거나 같다\n",
    "\n",
    "유사하게, $\\mathrm{MA}(2)$모형은\n",
    "$$r_{h+2} = c_0 + a_{h+l} - \\theta_1 a_{h+l-1} - \\theta_2 a_{h+l-2}$$\n",
    "이다. 이로부터 우리는\n",
    "$$\\hat r_h(1) = c_0 - \\theta_1 a_h - \\theta_2 a_{h-1}$$\n",
    "$$\\hat r_h(2) = c_0 - \\theta_2 a_h$$\n",
    "$$\\hat r_h(l) = c_0, ~~~~ \\mathrm{for} ~~ l>2$$\n",
    "인 것을 알 수 있다. 즉, $\\mathrm{MA}(2)$모형의 multistep-ahead 예측치는 2 step 이후이다.\n",
    "\n",
    "이를 일반화하면, $\\mathrm{MA}(q)$모형의 multistep-ahead 예측치는 $q$ step 이후에 평균으로 수렴하게 된다"
   ]
  },
  {
   "cell_type": "markdown",
   "metadata": {
    "id": "ervG6NLxUlLl"
   },
   "source": [
    "### 3.4 Forecasting using an ARMA models\n",
    "\n",
    "$\\mathrm{ARMA}(p,q)$ 모델은\n",
    "\n",
    "$$r_t = \\phi_0 + \\sum_{i=1}^p \\phi_i r_{t-i} + a_t - \\sum_{i=1}^q \\theta_i a_{t-i}$$\n",
    "이다. ARMA모형의 예측은 AR모형과 유사한데, $r_{h+1}$의 1-step-ahead 예측치는 다음과 같이 쉽게 표현될 수 있다\n",
    "\n",
    "$$\\hat r_h(1) = E(r_{h+1}|F_h) = \\phi_0 + \\sum_{i=1}^p \\phi_i r_{h+1-i} - \\sum_{i=1}^q \\theta_i a_{h+1-i}$$\n",
    "\n",
    "그리고 연관된 예측 오차는 $e_h(1) = r_{h+1} - \\hat r_h(1) = a_{h+1}$ 이며, 예측오차의 분산은 $\\mathrm{Var}[e_h(1)] = \\sigma_a^2$이라 할 수 있다. 이를 일반화하여 $l$-step-ahead 예측치는 다음과 같이 표현할 수 있다\n",
    "\n",
    "$$\\hat r_h(l) = E(r_{h+l}|F_h) = \\phi_0 + \\sum_{i=1}^p \\phi_i \\hat r_h (l-i) - \\sum_{i=1}^q \\theta_i a_h(l-i)$$\n",
    "\n",
    "이 경우 예측치의 오차는\n",
    "$$e_h(l) = r_{h+l} - \\hat r_h (l)$$\n",
    "이다"
   ]
  },
  {
   "cell_type": "markdown",
   "metadata": {
    "id": "KW8xoPMAUlLl"
   },
   "source": [
    "#### example 2\n",
    "\n",
    "example 1에서 추정한 Apple 주가의 차분 시계열의 ARMA모형을 사용하여 10기간 예측치를 계산하고, 1년간의 예측치를 plotting해 보자"
   ]
  },
  {
   "cell_type": "code",
   "execution_count": 16,
   "metadata": {
    "ExecuteTime": {
     "end_time": "2023-07-27T13:47:35.316267Z",
     "start_time": "2023-07-27T13:47:35.291157Z"
    },
    "colab": {
     "base_uri": "https://localhost:8080/"
    },
    "executionInfo": {
     "elapsed": 653,
     "status": "ok",
     "timestamp": 1693557240131,
     "user": {
      "displayName": "harborship",
      "userId": "14186759060292545698"
     },
     "user_tz": -540
    },
    "id": "CVkQWxi8UlLl",
    "outputId": "7f8ce173-96e6-4572-ad95-c15a9e9b6ef9"
   },
   "outputs": [
    {
     "data": {
      "text/plain": [
       "879    5.243831\n",
       "880    5.243279\n",
       "881    5.242729\n",
       "882    5.242178\n",
       "883    5.241629\n",
       "884    5.241080\n",
       "885    5.240532\n",
       "886    5.239984\n",
       "887    5.239438\n",
       "888    5.238892\n",
       "Name: predicted_mean, dtype: float64"
      ]
     },
     "execution_count": 16,
     "metadata": {},
     "output_type": "execute_result"
    }
   ],
   "source": [
    "warnings.filterwarnings(\"ignore\")\n",
    "model = sm.tsa.ARIMA(np.log(apple.Close), order = (1,0,1), trend = 'c').fit(method = 'innovations_mle')\n",
    "\n",
    "forecast_steps = 10\n",
    "model.forecast(steps = forecast_steps)"
   ]
  },
  {
   "cell_type": "markdown",
   "metadata": {
    "id": "bT0dzUR4UlLm"
   },
   "source": [
    "forecast의 결과값은 index가 int형으로 초기화되기 때문에, pandas date_range 함수를 사용하여 수정하거나, 숫자형 인덱스로 통일을 시켜야 한다"
   ]
  },
  {
   "cell_type": "code",
   "execution_count": 17,
   "metadata": {
    "ExecuteTime": {
     "end_time": "2023-07-27T13:49:23.247042Z",
     "start_time": "2023-07-27T13:49:22.900271Z"
    },
    "colab": {
     "base_uri": "https://localhost:8080/",
     "height": 440
    },
    "executionInfo": {
     "elapsed": 10,
     "status": "ok",
     "timestamp": 1693557240132,
     "user": {
      "displayName": "harborship",
      "userId": "14186759060292545698"
     },
     "user_tz": -540
    },
    "id": "1xOfZSFtUlLm",
    "outputId": "9c2bae5a-05d2-41f8-ae52-8f651e940dd7"
   },
   "outputs": [
    {
     "data": {
      "text/plain": [
       "<matplotlib.legend.Legend at 0x1fb29dbd8b0>"
      ]
     },
     "execution_count": 17,
     "metadata": {},
     "output_type": "execute_result"
    },
    {
     "data": {
      "image/png": "[encoded data removed]",
      "text/plain": [
       "<Figure size 720x288 with 1 Axes>"
      ]
     },
     "metadata": {
      "needs_background": "light"
     },
     "output_type": "display_data"
    }
   ],
   "source": [
    "import pandas as pd\n",
    "plt.figure(figsize = (10,4))\n",
    "plt.plot(model.fittedvalues[-10:], label = 'train')\n",
    "plt.plot(pd.date_range(start = '2023-06-30', periods = forecast_steps, freq='B'),\n",
    "         model.forecast(steps = forecast_steps), label = 'predicted')\n",
    "plt.xticks(rotation = 45, ha = 'right')\n",
    "plt.legend(loc = 'center left', bbox_to_anchor = (1, 0.5))"
   ]
  },
  {
   "cell_type": "markdown",
   "metadata": {
    "id": "0e6SDyXfUlLp"
   },
   "source": [
    "예측된 값과 실제 값을 비교해 보자"
   ]
  },
  {
   "cell_type": "code",
   "execution_count": 18,
   "metadata": {
    "ExecuteTime": {
     "end_time": "2023-07-27T13:47:44.051815Z",
     "start_time": "2023-07-27T13:47:43.303068Z"
    },
    "colab": {
     "base_uri": "https://localhost:8080/"
    },
    "executionInfo": {
     "elapsed": 8,
     "status": "ok",
     "timestamp": 1693557240133,
     "user": {
      "displayName": "harborship",
      "userId": "14186759060292545698"
     },
     "user_tz": -540
    },
    "id": "W-M-be9PUlLp",
    "outputId": "246bd73d-15ae-43f0-c715-b0f4c88af53d"
   },
   "outputs": [
    {
     "name": "stdout",
     "output_type": "stream",
     "text": [
      "[*********************100%%**********************]  1 of 1 completed\n"
     ]
    }
   ],
   "source": [
    "start_date = '2023-06-30'\n",
    "end_date = '2023-07-14'\n",
    "\n",
    "apple_new= yf.download('AAPL', start = start_date, end = end_date)"
   ]
  },
  {
   "cell_type": "code",
   "execution_count": 19,
   "metadata": {
    "ExecuteTime": {
     "end_time": "2023-07-27T13:49:34.816973Z",
     "start_time": "2023-07-27T13:49:34.630430Z"
    },
    "colab": {
     "base_uri": "https://localhost:8080/",
     "height": 441
    },
    "executionInfo": {
     "elapsed": 746,
     "status": "ok",
     "timestamp": 1693557240873,
     "user": {
      "displayName": "harborship",
      "userId": "14186759060292545698"
     },
     "user_tz": -540
    },
    "id": "QT35bOvcUlLp",
    "outputId": "b456eecf-f185-43f5-9d59-2811add42e17"
   },
   "outputs": [
    {
     "data": {
      "text/plain": [
       "<matplotlib.legend.Legend at 0x1fb29e4f730>"
      ]
     },
     "execution_count": 19,
     "metadata": {},
     "output_type": "execute_result"
    },
    {
     "data": {
      "image/png": "[encoded data removed]",
      "text/plain": [
       "<Figure size 720x288 with 1 Axes>"
      ]
     },
     "metadata": {
      "needs_background": "light"
     },
     "output_type": "display_data"
    }
   ],
   "source": [
    "plt.figure(figsize = (10,4))\n",
    "plt.plot(model.fittedvalues[-10:], label = 'train')\n",
    "plt.plot(pd.date_range(start = '2023-06-30', periods = forecast_steps, freq='B'),\n",
    "         model.forecast(steps = forecast_steps), label = 'predicted')\n",
    "plt.plot(np.log(apple_new.Close), label = 'test')\n",
    "plt.xticks(rotation = 45, ha = 'right')\n",
    "plt.legend(loc = 'center left', bbox_to_anchor = (1, 0.5))"
   ]
  },
  {
   "cell_type": "markdown",
   "metadata": {
    "id": "P9N2ClMHUlLp"
   },
   "source": [
    "예측에 대한 분산은 **편향이 있고 최소 분산 추정치는 아니지만, 효율적인 추정량**임을 잊지 말아야 한다"
   ]
  },
  {
   "cell_type": "markdown",
   "metadata": {
    "id": "6wLKnvj4UlLp"
   },
   "source": [
    "#### Exercise 2\n",
    "\n",
    "Exercise 1에서 추정한 모형을 가지고 오자. 20기간의 예측을 시행하라. 그리고 실제 값과 비교해 보라. 어떤 차이가 있는가? 예측값은 효율적인 추정량인가?"
   ]
  },
  {
   "cell_type": "code",
   "execution_count": null,
   "metadata": {
    "executionInfo": {
     "elapsed": 2020,
     "status": "ok",
     "timestamp": 1693557242890,
     "user": {
      "displayName": "harborship",
      "userId": "14186759060292545698"
     },
     "user_tz": -540
    },
    "id": "TMXN5BoL27yN"
   },
   "outputs": [],
   "source": [
    "import datetime\n",
    "import pandas_datareader as pdr\n",
    "\n",
    "start_date = datetime.datetime(2020, 1, 1)\n",
    "end_date = datetime.datetime(2023, 6, 30)\n"
   ]
  },
  {
   "cell_type": "markdown",
   "metadata": {},
   "source": []
  }
 ],
 "metadata": {
  "colab": {
   "provenance": []
  },
  "kernelspec": {
   "display_name": "Python 3 (ipykernel)",
   "language": "python",
   "name": "python3"
  },
  "language_info": {
   "codemirror_mode": {
    "name": "ipython",
    "version": 3
   },
   "file_extension": ".py",
   "mimetype": "text/x-python",
   "name": "python",
   "nbconvert_exporter": "python",
   "pygments_lexer": "ipython3",
   "version": "3.11.7"
  }
 },
 "nbformat": 4,
 "nbformat_minor": 4
}
