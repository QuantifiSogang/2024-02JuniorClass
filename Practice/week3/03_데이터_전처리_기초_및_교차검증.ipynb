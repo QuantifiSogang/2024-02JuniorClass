{
 "cells": [
  {
   "cell_type": "markdown",
   "metadata": {},
   "source": [
    "## 이상치"
   ]
  },
  {
   "cell_type": "markdown",
   "metadata": {},
   "source": [
    "데이터 분석 분야에서 **이상치**는 다른 자료와는 극단적으로 다른 값을 의미한다. 즉 유달리 크거나 작은 값을 뜻한다. 이 이상치는 평균, 분산, 공분산 등의 통계량에 심각한 영향을 줘 데이터 해석에 심각한 문제를 야기하는 원인이 되곤 한다.\n",
    "\n",
    "가장 유명한 예시가 바로 미국 노스캐롤라이나 주립대 졸업생의 연봉 조사이다. 미국 노스캐롤라이나 대학 학과별 졸업생의 평균 연봉을 조사해 본 결과, 가장 높은 연봉을 받은 과는 바로 지리학과였다. 그 이유는 농구 스타 마이클 조던 때문이었다. 마이클 조던이라는 이상치로 인해 데이터 해석에 큰 문제가 발생한 것이다."
   ]
  },
  {
   "cell_type": "markdown",
   "metadata": {},
   "source": [
    "데이터 예시를 바탕으로 이상치를 시각화해보자"
   ]
  },
  {
   "cell_type": "code",
   "execution_count": 2,
   "metadata": {},
   "outputs": [
    {
     "data": {
      "image/png": "[encoded data removed]",
      "text/plain": [
       "<Figure size 640x480 with 1 Axes>"
      ]
     },
     "metadata": {},
     "output_type": "display_data"
    }
   ],
   "source": [
    "import pandas as pd\n",
    "import matplotlib.pyplot as plt\n",
    "\n",
    "df=pd.DataFrame({'x' :[4,5,7,5,3,1,5,8,4,3,12,66,13,12,77,2,5,3,7,6,8,9,10]})\n",
    "plt.boxplot(df)\n",
    "plt.xticks([1], ['x'])\n",
    "plt.show()"
   ]
  },
  {
   "cell_type": "markdown",
   "metadata": {},
   "source": [
    "위 그림을 보면 아주 위에 툭 튀어나온 데이터가 존재함을 알 수 있다. 이 데이터가 바로 이상치이다."
   ]
  },
  {
   "cell_type": "markdown",
   "metadata": {},
   "source": [
    "### 이상치 탐색 방법"
   ]
  },
  {
   "cell_type": "markdown",
   "metadata": {},
   "source": [
    "이상치를 통계적으로 탐지하기 위해 대표적으로 쓰이는 방법은 **Z-Score**(표준화 점수) 방법과 **IQR**(InterQuantile Range, 사분위수 범위)방법이다. "
   ]
  },
  {
   "cell_type": "markdown",
   "metadata": {},
   "source": [
    "#### Z-Score(표준화 점수)"
   ]
  },
  {
   "cell_type": "markdown",
   "metadata": {},
   "source": [
    "Z-Score의 경우, 데이터의 분포가 정규분포를 따른다고 가정한 상태에서 데이터의 중심으로부터 $\\vert 3\\sigma \\vert$ 이상 떨어진 데이터를 이상치로 간주하는 방법이다. 이를 위해 \n",
    "\n",
    "$$Z=\\frac{X-\\mu}{\\sigma}$$\n",
    "\n",
    "의 과정을 거쳐 데이터를 표준화 해 준 뒤, $\\vert Z \\vert > 3$이면 이상치로 간주한다.\n",
    "\n",
    "표준화 점수 방식의 가장 큰 문제점은 데이터 분포가 정규분포임을 가정한다는 것이다. 또한 평균과 표준편차를 사용하므로 Z-Score를 산출하는 과정 자체가 이상치의 영향을 받는다는 문제점도 존재한다.\n",
    "\n"
   ]
  },
  {
   "cell_type": "code",
   "execution_count": 3,
   "metadata": {},
   "outputs": [
    {
     "data": {
      "text/html": [
       "<div>\n",
       "<style scoped>\n",
       "    .dataframe tbody tr th:only-of-type {\n",
       "        vertical-align: middle;\n",
       "    }\n",
       "\n",
       "    .dataframe tbody tr th {\n",
       "        vertical-align: top;\n",
       "    }\n",
       "\n",
       "    .dataframe thead th {\n",
       "        text-align: right;\n",
       "    }\n",
       "</style>\n",
       "<table border=\"1\" class=\"dataframe\">\n",
       "  <thead>\n",
       "    <tr style=\"text-align: right;\">\n",
       "      <th></th>\n",
       "      <th>x</th>\n",
       "      <th>z</th>\n",
       "    </tr>\n",
       "  </thead>\n",
       "  <tbody>\n",
       "    <tr>\n",
       "      <th>14</th>\n",
       "      <td>77</td>\n",
       "      <td>3.474357</td>\n",
       "    </tr>\n",
       "  </tbody>\n",
       "</table>\n",
       "</div>"
      ],
      "text/plain": [
       "     x         z\n",
       "14  77  3.474357"
      ]
     },
     "execution_count": 3,
     "metadata": {},
     "output_type": "execute_result"
    }
   ],
   "source": [
    "import pandas as pd\n",
    "from scipy.stats import t, zscore\n",
    "\n",
    "df=pd.DataFrame({'x' :[4,5,7,5,3,1,5,8,4,3,12,66,13,12,77,2,5,3,7,6,8,9,10]})\n",
    "df['z']=zscore(df.x)\n",
    "df[ (df.z>3) | (df.z<-3)]"
   ]
  },
  {
   "cell_type": "markdown",
   "metadata": {},
   "source": [
    "위의 예시에서 Z-Score 자체가 이상치의 영향을 받아 66 데이터가 이상치로 잡히지 않은 것을 볼 수 있다. 이렇듯 Z-Score를 쓸 때는 데이터가 정규분포를 따르는 지 등을 검토해 본 뒤에 사용해야 한다."
   ]
  },
  {
   "cell_type": "markdown",
   "metadata": {},
   "source": [
    "#### IQR(사분위수 범위)"
   ]
  },
  {
   "cell_type": "markdown",
   "metadata": {},
   "source": [
    "IQR은 사분위수를 이용해 이상치를 찾는 방법이다. IQR은 제 3사분위수(상위 75%)와 제 1사분위수(하위 25%)의 차이로 정의한다. 그리고 데이터가 Q1-1.5IQR보다 작거나, Q3+1.5IQR보다 큰 경우 이상치로 판단한다. 위에서 본 Boxplot에서 그려진 그림이 IQR을 이용한 이상치 탐색을 시각화한 것이다.\n",
    "\n",
    "IQR은 데이터 수가 적거나 정규분포를 따르지 않는 경우에도 사용이 가능하고, 산출 과정 또한 쉬워 일반적으로 많이 사용하는 방법론이다."
   ]
  },
  {
   "cell_type": "code",
   "execution_count": 4,
   "metadata": {},
   "outputs": [
    {
     "data": {
      "text/plain": [
       "11    66\n",
       "14    77\n",
       "Name: x, dtype: int64"
      ]
     },
     "execution_count": 4,
     "metadata": {},
     "output_type": "execute_result"
    }
   ],
   "source": [
    "df=pd.DataFrame({'x' :[4,5,7,5,3,1,5,8,4,3,12,66,13,12,77,2,5,3,7,6,8,9,10]})\n",
    "Q1=df.x.quantile(0.25)\n",
    "Q3=df.x.quantile(0.75)\n",
    "IQR=Q3-Q1\n",
    "out_lier=df.x[(df.x<Q1-IQR)|(df.x>Q3+IQR)]\n",
    "out_lier"
   ]
  },
  {
   "cell_type": "markdown",
   "metadata": {},
   "source": [
    "이 경우 Z-Score에서는 잡아내지 못한 66도 잘 잡아냄을 확인할 수 있다."
   ]
  },
  {
   "cell_type": "code",
   "execution_count": 5,
   "metadata": {},
   "outputs": [
    {
     "data": {
      "image/png": "[encoded data removed]",
      "text/plain": [
       "<Figure size 640x480 with 1 Axes>"
      ]
     },
     "metadata": {},
     "output_type": "display_data"
    }
   ],
   "source": [
    "plt.boxplot(df)\n",
    "plt.xticks([1], ['x'])\n",
    "plt.show()"
   ]
  },
  {
   "cell_type": "markdown",
   "metadata": {},
   "source": [
    "boxplot에서 박스의 위 경계가 Q3이며, 박스의 아래 경계가 Q1을 의미한다. 그리고 박스 위의 직선이 Q3+IQR을 의미하며, 박스 아래 직선이 Q1-IQR을 의미한다."
   ]
  },
  {
   "cell_type": "markdown",
   "metadata": {
    "school_cell_uuid": "055ab3178a6042cd8c1b1bed67bfde5b"
   },
   "source": [
    "## 교차검증"
   ]
  },
  {
   "cell_type": "markdown",
   "metadata": {},
   "source": [
    "### 표본내 성능과 표본외 성능"
   ]
  },
  {
   "cell_type": "markdown",
   "metadata": {},
   "source": [
    "회귀분석 모형을 만들기 위해서는 모수 추정 즉 학습(training)을 위한 데이터 집합이 필요하다. 이 데이터 집합을 학습용 데이터 집합(traning data set)이라고 한다. 이 학습 데이터 집합의 종속 변수값을 얼마나 잘 예측하였는지를 나타내는 성능을 **표본내 성능 검증**(in-sample testing)이라고 한다.\n",
    "\n",
    "그런데 회귀분석 모형을 만드는 목적 중 하나는 종속 변수의 값을 아직 알지 못하고 따라서 학습에 사용하지 않은 표본의 대해 종속 변수의 값을 알아내고자 하는 것. 즉 예측(prediction)이다. 이렇게 학습에 쓰이지 않는 표본 데이터 집합의 종속 변수 값을 얼마나 잘 예측하는가를 검사하는 것을 **표본외 성능 검증**(out-of-sample testing) 혹은 **교차검증**(cross validation)이라고 한다."
   ]
  },
  {
   "cell_type": "markdown",
   "metadata": {},
   "source": [
    "### 과적합"
   ]
  },
  {
   "cell_type": "markdown",
   "metadata": {},
   "source": [
    "일반적으로 표본내 성능과 표본외 성능은 비슷한 수준을 보이지만 경우에 따라서는 표본내 성능은 좋으면서 표본외 성능이 상대적으로 많이 떨어지는 수도 있다. 이러한 경우를 **과적합**(overfitting)라고 한다. 과적합이 발생하면 학습에 쓰였던 표본 데이터에 대해서는 잘 종속 변수의 값을 잘 추정하지만 새로운 데이터를 주었을 때 전혀 예측하지 못하기 때문에 예측 목적으로는 쓸모없는 모형이 된다.\n",
    "\n",
    "과적합을 탐지하는 방법이 바로 교차검증이다. 이번 절에서는 과적합을 막기 위해 필수적인 교차검증 방법을 공부한다."
   ]
  },
  {
   "cell_type": "markdown",
   "metadata": {},
   "source": [
    "### 검증용 데이터 집합"
   ]
  },
  {
   "cell_type": "markdown",
   "metadata": {},
   "source": [
    "교차검증을 하려면 두 종류의 데이터 집합이 필요하다. \n",
    "\n",
    "* 모형 추정 즉 학습을 위한 데이터 집합 (training data set)\n",
    "* 성능 검증을 위한 데이터 집합 (test data set)\n",
    "\n",
    "두 데이터 집합 모두 종속 변수값이 있어야 한다. 따라서 보통은 가지고 있는 데이터 집합을 학습용과 검증용으로 나누어 학습용 데이터만을 사용하여 회귀분석 모형을 만들고 검증용 데이터로 성능을 계산하는 **학습/검증 데이터 분리(train-test split)** 방법을 사용한다."
   ]
  },
  {
   "cell_type": "markdown",
   "metadata": {},
   "source": [
    "### statsmodels 패키지에서의 교차검증"
   ]
  },
  {
   "cell_type": "markdown",
   "metadata": {},
   "source": [
    "소수의 입력 변수와 소규모 데이터를 사용하는 전통적인 회귀분석에서는 다항회귀 등의 방법으로 모형 차수를 증가시키지 않는 한 과적합이 생기는 경우가 드물다. 따라서 statsmodels 패키지에는 교차검증을 위한 기능이 별도로 준비되어 있지 않고 사용자가 직접 코드를 작성해야 한다.\n",
    "\n",
    "다음은 보스턴 집값 데이터를 학습용과 검증용으로 나누어 교차검증을 하는 코드이다. 우선 무작위로 70%의 데이터를 골라서 학습용 데이터로 하고 나머지를 검증용 데이터로 한다."
   ]
  },
  {
   "cell_type": "code",
   "execution_count": 6,
   "metadata": {},
   "outputs": [],
   "source": [
    "from sklearn.datasets import fetch_california_housing\n",
    "import numpy as np\n",
    "import statsmodels.api as sm\n",
    "\n",
    "datasets=fetch_california_housing()\n",
    "dfX = pd.DataFrame(datasets.data, columns=datasets.feature_names)\n",
    "dfy = pd.DataFrame(datasets.target, columns=[\"MEDV\"])\n",
    "df = pd.concat([dfX, dfy], axis=1)\n",
    "\n",
    "N = len(df)\n",
    "ratio = 0.7\n",
    "np.random.seed(0)\n",
    "idx_train = np.random.choice(np.arange(N), int(ratio * N))\n",
    "idx_test = list(set(np.arange(N)).difference(idx_train))  # 차집합을 계산 후 리스트로 변환\n",
    " \n",
    "df_train = df.iloc[idx_train]\n",
    "df_test = df.iloc[idx_test]"
   ]
  },
  {
   "cell_type": "markdown",
   "metadata": {},
   "source": [
    "학습용 데이터로 회귀모형을 만들면 결정 계수는 0.607이다."
   ]
  },
  {
   "cell_type": "code",
   "execution_count": 7,
   "metadata": {},
   "outputs": [
    {
     "name": "stdout",
     "output_type": "stream",
     "text": [
      "                            OLS Regression Results                            \n",
      "==============================================================================\n",
      "Dep. Variable:                   MEDV   R-squared:                       0.607\n",
      "Model:                            OLS   Adj. R-squared:                  0.607\n",
      "Method:                 Least Squares   F-statistic:                     2787.\n",
      "Date:                Sun, 22 Sep 2024   Prob (F-statistic):               0.00\n",
      "Time:                        22:20:56   Log-Likelihood:                -15817.\n",
      "No. Observations:               14447   AIC:                         3.165e+04\n",
      "Df Residuals:                   14438   BIC:                         3.172e+04\n",
      "Df Model:                           8                                         \n",
      "Covariance Type:            nonrobust                                         \n",
      "==============================================================================\n",
      "                 coef    std err          t      P>|t|      [0.025      0.975]\n",
      "------------------------------------------------------------------------------\n",
      "Intercept    -37.2142      0.795    -46.787      0.000     -38.773     -35.655\n",
      "MedInc         0.4292      0.005     83.850      0.000       0.419       0.439\n",
      "HouseAge       0.0096      0.001     18.223      0.000       0.009       0.011\n",
      "AveRooms      -0.1019      0.007    -13.788      0.000      -0.116      -0.087\n",
      "AveBedrms      0.6034      0.034     17.961      0.000       0.538       0.669\n",
      "Population -8.906e-07   5.48e-06     -0.163      0.871   -1.16e-05    9.85e-06\n",
      "AveOccup      -0.0038      0.001     -7.076      0.000      -0.005      -0.003\n",
      "Latitude      -0.4268      0.009    -48.949      0.000      -0.444      -0.410\n",
      "Longitude     -0.4387      0.009    -48.221      0.000      -0.457      -0.421\n",
      "==============================================================================\n",
      "Omnibus:                     2895.997   Durbin-Watson:                   1.985\n",
      "Prob(Omnibus):                  0.000   Jarque-Bera (JB):             9287.156\n",
      "Skew:                           1.019   Prob(JB):                         0.00\n",
      "Kurtosis:                       6.358   Cond. No.                     2.44e+05\n",
      "==============================================================================\n",
      "\n",
      "Notes:\n",
      "[1] Standard Errors assume that the covariance matrix of the errors is correctly specified.\n",
      "[2] The condition number is large, 2.44e+05. This might indicate that there are\n",
      "strong multicollinearity or other numerical problems.\n"
     ]
    }
   ],
   "source": [
    "model = sm.OLS.from_formula(\"MEDV ~ \" + \"+\".join(datasets.feature_names), data=df_train)\n",
    "result = model.fit()\n",
    "print(result.summary())"
   ]
  },
  {
   "cell_type": "markdown",
   "metadata": {},
   "source": [
    "남겨둔 검증용 데이터로 성능을 구하면 결정계수는 0.608이다."
   ]
  },
  {
   "cell_type": "code",
   "execution_count": 8,
   "metadata": {},
   "outputs": [
    {
     "data": {
      "text/plain": [
       "0.6083882062514273"
      ]
     },
     "execution_count": 8,
     "metadata": {},
     "output_type": "execute_result"
    }
   ],
   "source": [
    "pred = result.predict(df_test)\n",
    "\n",
    "rss = ((df_test.MEDV - pred) ** 2).sum()\n",
    "tss = ((df_test.MEDV - df_test.MEDV.mean())** 2).sum()\n",
    "rsquared = 1 - rss / tss\n",
    "rsquared"
   ]
  },
  {
   "cell_type": "markdown",
   "metadata": {
    "school_cell_uuid": "46326e3027fc4652870b2aeec56375b1"
   },
   "source": [
    "### scikit-learn의 교차검증 기능"
   ]
  },
  {
   "cell_type": "markdown",
   "metadata": {
    "school_cell_uuid": "c4083e1d7f8e462f999da9bcf7fc65d1"
   },
   "source": [
    "독립 변수의 개수가 많은 빅데이터에서는 과적합이 쉽게 발생한다. 따라서 scikit-learn 의 model_selection 서브 패키지는 교차검증을 위한 다양한 명령을 제공한다."
   ]
  },
  {
   "cell_type": "markdown",
   "metadata": {
    "school_cell_uuid": "f734e1ca3289467890c30c34b3a5b22c"
   },
   "source": [
    "### 단순 데이터 분리"
   ]
  },
  {
   "cell_type": "markdown",
   "metadata": {
    "school_cell_uuid": "0b0203e7ddc9457994e7e6b859109b75"
   },
   "source": [
    "`train_test_split` 명령은 데이터를 학습용 데이터와 검증용 데이터로 분리한다. 사용법은 다음과 같다.\n",
    "\n",
    "\n",
    "```\n",
    "train_test_split(data, data2, test_size, train_size, random_state)\n",
    "```\n",
    "\n",
    "* `data`: 독립 변수 데이터 배열 또는 pandas 데이터프레임\n",
    "* `data2`: 종속 변수 데이터. `data` 인수에 종속 변수 데이터가 같이 있으면 생략할 수 있다.\n",
    "* `test_size`: 검증용 데이터 개수. 1보다 작은 실수이면 비율을 나타낸다.\n",
    "* `train_size`: 학습용 데이터의 개수. 1보다 작은 실수이면 비율을 나타낸다. `test_size`와 `train_size` 중 하나만 있어도 된다.\n",
    "* `random_state`: 난수 시드\n"
   ]
  },
  {
   "cell_type": "code",
   "execution_count": 9,
   "metadata": {
    "school_cell_uuid": "4c3832e557984aee8852ee4abbb8fa2e"
   },
   "outputs": [
    {
     "data": {
      "text/plain": [
       "((14448, 9), (6192, 9))"
      ]
     },
     "execution_count": 9,
     "metadata": {},
     "output_type": "execute_result"
    }
   ],
   "source": [
    "from sklearn.model_selection import train_test_split\n",
    "\n",
    "df_train, df_test = train_test_split(df, test_size=0.3, random_state=0)\n",
    "df_train.shape, df_test.shape"
   ]
  },
  {
   "cell_type": "code",
   "execution_count": 10,
   "metadata": {
    "school_cell_uuid": "90e72c84142a4fc290d08e8989af57da"
   },
   "outputs": [
    {
     "data": {
      "text/plain": [
       "((14448, 8), (14448, 1), (6192, 8), (6192, 1))"
      ]
     },
     "execution_count": 10,
     "metadata": {},
     "output_type": "execute_result"
    }
   ],
   "source": [
    "dfX_train, dfX_test, dfy_train, dfy_test = train_test_split(dfX, dfy, test_size=0.3, random_state=0)\n",
    "dfX_train.shape, dfy_train.shape, dfX_test.shape, dfy_test.shape"
   ]
  },
  {
   "cell_type": "markdown",
   "metadata": {
    "school_cell_uuid": "c2abdda8bbeb439c844e9865f6d3104b"
   },
   "source": [
    "### K-폴드 교차검증"
   ]
  },
  {
   "cell_type": "markdown",
   "metadata": {
    "school_cell_uuid": "4b72b8e8fe234b1aab94d86459d72c62"
   },
   "source": [
    "데이터의 수가 적은 경우에는 이 데이터 중의 일부인 검증 데이터의 수도 적기 때문에 검증 성능의 신뢰도가 떨어진다. 그렇다고 검증 데이터의 수를 증가시키면 학습용 데이터의 수가 적어지므로 정상적인 학습이 되지 않는다. 이러한 딜레마를 해결하기 위한 검증 방법이 **K-폴드(K-fold)** 교차검증 방법이다.\n",
    "\n",
    "K-폴드 교차검증에서는 다음처럼 학습과 검증을 반복한다.\n",
    "\n",
    "1. 전체 데이터를 K개의 부분 집합($\\{D_1, D_2,\\cdots, D_K\\}$)으로 나눈다.\n",
    "2. 데이터 $\\{D_1, D_2, \\cdots, D_{K-1} \\}$를 학습용 데이터로 사용하여 회귀분석 모형을 만들고 데이터 $\\{D_K\\}$로 교차검증을 한다.\n",
    "3. 데이터 $\\{D_1, D_2, \\cdots, D_{K-2}, D_K \\}$를 학습용 데이터로 사용하여 회귀분석 모형을 만들고 데이터 $\\{D_{K-1}\\}$로 교차검증을 한다.\n",
    "<br>$\\vdots$\n",
    "4. 데이터 $\\{D_2, \\cdots, D_K \\}$를 학습용 데이터로 사용하여 회귀분석 모형을 만들고 데이터 $\\{D_1\\}$로 교차검증을 한다.\n",
    "\n",
    "이렇게 하면 총 K개의 모형과 K개의 교차검증 성능이 나온다. 이 K개의 교차검증 성능을 평균하여 최종 교차검증 성능을 계산한다.\n",
    "\n",
    "다음 그림은 K=4로 주어진 상태에서의 K-폴드 교차검증 방법을 시각화한 그림이다"
   ]
  },
  {
   "cell_type": "markdown",
   "metadata": {
    "hidden": "input"
   },
   "source": [
    "<center>\n",
    "    \n",
    "<img src=\"./교차검증.png\" width=\"1400px\" height=\"700px\">\n",
    "    \n",
    "</center>"
   ]
  },
  {
   "cell_type": "markdown",
   "metadata": {},
   "source": [
    "scikit-learn 패키지의 model_selection 서브 패키지는 `KFold` 클래스를 비롯한 다양한 교차검증 생성기를 제공한다. 이 생성기의 `split` 메서드는 \n",
    "학습용과 검증용의 데이터 인덱스를 출력하는 파이썬 반복자(iterator)를 반환한다."
   ]
  },
  {
   "cell_type": "code",
   "execution_count": 11,
   "metadata": {
    "school_cell_uuid": "556dab2a12f4433088c4a56d7cade7c1"
   },
   "outputs": [
    {
     "name": "stdout",
     "output_type": "stream",
     "text": [
      "학습 R2 = 0.60889681, 검증 R2 = 0.59432327\n",
      "학습 R2 = 0.60671840, 검증 R2 = 0.60293778\n",
      "학습 R2 = 0.60713420, 검증 R2 = 0.60235253\n",
      "학습 R2 = 0.60652059, 검증 R2 = 0.60066293\n",
      "학습 R2 = 0.60314525, 검증 R2 = 0.61828258\n"
     ]
    }
   ],
   "source": [
    "from sklearn.model_selection import KFold\n",
    "\n",
    "scores = np.zeros(5)\n",
    "cv = KFold(5, shuffle=True, random_state=0)   # K=5인 KFold 클래스 생성\n",
    "for i, (idx_train, idx_test) in enumerate(cv.split(df)):   # cv.split이 train 데이터 index와 test 데이터 index를 반환\n",
    "    df_train = df.iloc[idx_train]\n",
    "    df_test = df.iloc[idx_test]\n",
    "    \n",
    "    model = sm.OLS.from_formula(\"MEDV ~ \" + \"+\".join(datasets.feature_names), data=df_train)\n",
    "    result = model.fit()\n",
    "    \n",
    "    pred = result.predict(df_test)\n",
    "    rss = ((df_test.MEDV - pred) ** 2).sum()\n",
    "    tss = ((df_test.MEDV - df_test.MEDV.mean())** 2).sum()\n",
    "    rsquared = 1 - rss / tss\n",
    "    \n",
    "    scores[i] = rsquared\n",
    "    print(\"학습 R2 = {:.8f}, 검증 R2 = {:.8f}\".format(result.rsquared, rsquared))"
   ]
  },
  {
   "cell_type": "markdown",
   "metadata": {},
   "source": [
    "### Leave One Out Cross Validation(LOOCV)"
   ]
  },
  {
   "cell_type": "markdown",
   "metadata": {},
   "source": [
    "Leave-One-Out CV(LOOCV) 방식은 총 $N$(샘플 수 만큼)번의 model을 만들고, 각 모델을 만들 때에 하나의 샘플만 제외하여 Train set을 구성하고, 제외한 샘플로 test set performance를 계산하는 방식을 사용한다. 이를 N개의 performance에 대해서 모두 수행한 뒤 결과값의 평균을 내는 방법이 바로 Leave One Out Cross Validation이다. "
   ]
  },
  {
   "cell_type": "code",
   "execution_count": 19,
   "metadata": {},
   "outputs": [
    {
     "name": "stdout",
     "output_type": "stream",
     "text": [
      "60 60\n"
     ]
    }
   ],
   "source": [
    "from sklearn.model_selection import LeaveOneOut\n",
    "import seaborn as sns\n",
    "from sklearn.model_selection import cross_val_score\n",
    "from sklearn.metrics import r2_score\n",
    "\n",
    "df_new=sns.load_dataset('attention')\n",
    "attention_df=pd.get_dummies(df_new.attention, dtype=int)\n",
    "df_tot = pd.concat([df_new, attention_df], axis=1)\n",
    "df_tot=df_tot[['subject', 'solutions', 'divided', 'focused', 'score']]\n",
    "\n",
    "loocv=LeaveOneOut()\n",
    "N=loocv.get_n_splits(df_new)  # 샘플 수 확인 = len(df)\n",
    "print(N, len(df_tot))"
   ]
  },
  {
   "cell_type": "code",
   "execution_count": 33,
   "metadata": {},
   "outputs": [
    {
     "name": "stdout",
     "output_type": "stream",
     "text": [
      "Average R² Score from LOOCV: 0.2664629909959644\n"
     ]
    }
   ],
   "source": [
    "y_test_result=[]\n",
    "y_pred_result=[]\n",
    "for i, (idx_train, idx_test) in enumerate(loocv.split(df_tot)):   # loocv.split이 train 데이터 index와 test 데이터 index를 반환\n",
    "    df_train = df_tot.iloc[idx_train]\n",
    "    df_test = df_tot.iloc[idx_test]\n",
    "    \n",
    "    model = sm.OLS.from_formula(\"score ~ \" + \"+\".join(['subject', 'solutions', 'divided', 'focused']), data=df_train)\n",
    "    result = model.fit()\n",
    "    \n",
    "    pred = result.predict(df_test)\n",
    "    y_test_result.append(df_test.score.iloc[0])\n",
    "    y_pred_result.append(pred.iloc[0])\n",
    "\n",
    "y_test_result=np.array(y_test_result)\n",
    "y_pred_result=np.array(y_pred_result)\n",
    "\n",
    "rss = ( (y_test_result- y_pred_result) ** 2).sum()\n",
    "tss = ( (y_test_result - y_test_result.mean())** 2).sum()\n",
    "rsquared = 1 - rss / tss\n",
    "\n",
    "# 최종 R² score\n",
    "print(\"Average R² Score from LOOCV:\", rsquared)"
   ]
  },
  {
   "cell_type": "markdown",
   "metadata": {},
   "source": [
    "### 평가 점수"
   ]
  },
  {
   "cell_type": "markdown",
   "metadata": {},
   "source": [
    "scikit-learn의 metrics 서브패키지에는 예측 성능을 평가하기 위한 다양한 함수를 제공한다. 그 중 회귀분석에 유용한 함수를 소개한다.\n",
    "\n",
    "* `r2_score`: 결정 계수\n",
    "* `mean_squared_error`: 평균 제곱 오차(mean squared error)\n",
    "* `median_absolute_error`: 절대 오차 중앙값(median absolute error)"
   ]
  },
  {
   "cell_type": "markdown",
   "metadata": {},
   "source": [
    "이 함수를 이용하여 위 코드를 다음처럼 간단하게 고칠 수 있다."
   ]
  },
  {
   "cell_type": "code",
   "execution_count": 32,
   "metadata": {},
   "outputs": [
    {
     "data": {
      "text/plain": [
       "array([0.59432327, 0.60293778, 0.60235253, 0.60066293, 0.61828258])"
      ]
     },
     "execution_count": 32,
     "metadata": {},
     "output_type": "execute_result"
    }
   ],
   "source": [
    "from sklearn.metrics import r2_score\n",
    "\n",
    "datasets=fetch_california_housing()\n",
    "dfX = pd.DataFrame(datasets.data, columns=datasets.feature_names)\n",
    "dfy = pd.DataFrame(datasets.target, columns=[\"MEDV\"])\n",
    "df = pd.concat([dfX, dfy], axis=1)\n",
    "\n",
    "scores = np.zeros(5)\n",
    "cv = KFold(5, shuffle=True, random_state=0)\n",
    "for i, (idx_train, idx_test) in enumerate(cv.split(df)):\n",
    "    df_train = df.iloc[idx_train]\n",
    "    df_test = df.iloc[idx_test]\n",
    "    \n",
    "    model = sm.OLS.from_formula(\"MEDV ~ \" + \"+\".join(datasets.feature_names), data=df_train)\n",
    "    result = model.fit()\n",
    "    \n",
    "    pred = result.predict(df_test)\n",
    "    rsquared = r2_score(df_test.MEDV, pred)\n",
    "    \n",
    "    scores[i] = rsquared\n",
    "\n",
    "scores"
   ]
  },
  {
   "cell_type": "markdown",
   "metadata": {},
   "source": [
    "### 교차검증 반복"
   ]
  },
  {
   "cell_type": "markdown",
   "metadata": {
    "school_cell_uuid": "a4974220558345148bbc4fcc897a5c7e"
   },
   "source": [
    "위와 같이 교차검증을 반복하는 코드를 더 간단하게 만들어주는 함수가 있다. 바로 `cross_val_score`이다. 사용법은 다음과 같다.\n",
    "\n",
    "```\n",
    "cross_val_score(model, X, y, scoring=None, cv=None)\n",
    "```\n",
    "\n",
    "* `model` : 회귀 분석 모형\n",
    "* `X` : 독립 변수 데이터\n",
    "* `y` : 종속 변수 데이터\n",
    "* `scoring` : 성능 검증에 사용할 함수 이름\n",
    "* `cv` : 교차검증 생성기 객체 또는 숫자.\n",
    "   * `None`이면 `KFold(3)`\n",
    "   * 숫자 `k`이면 `KFold(k)`\n",
    "\n",
    "\n",
    "단 `cross_val_score` 명령은 scikit-learn에서 제공하는 모형만 사용할 수 있다. statsmodels의 모형 객체를 사용하려면 다음과 같이 scikit-learn의 `RegressorMixin`으로 래퍼 클래스(wrapper class)를 만들어주어야 한다."
   ]
  },
  {
   "cell_type": "code",
   "execution_count": 14,
   "metadata": {},
   "outputs": [],
   "source": [
    "from sklearn.base import BaseEstimator, RegressorMixin\n",
    "import statsmodels.formula.api as smf\n",
    "import statsmodels.api as sm\n",
    "\n",
    "class StatsmodelsOLS(BaseEstimator, RegressorMixin):\n",
    "    def __init__(self, formula):\n",
    "        self.formula = formula\n",
    "        self.model = None\n",
    "        self.data = None\n",
    "        self.result = None\n",
    "        \n",
    "    def fit(self, dfX, dfy):\n",
    "        self.data = pd.concat([dfX, dfy], axis=1)\n",
    "        self.model = smf.ols(self.formula, data=self.data)\n",
    "        self.result = self.model.fit()\n",
    "        \n",
    "    def predict(self, new_data):\n",
    "        return self.result.predict(new_data)"
   ]
  },
  {
   "cell_type": "markdown",
   "metadata": {},
   "source": [
    "이 래퍼 클래스와 `cross_val_score` 명령을 사용하면 교차검증 성능 값을 다음처럼 간단하게 계산할 수 있다."
   ]
  },
  {
   "cell_type": "code",
   "execution_count": 15,
   "metadata": {
    "scrolled": false
   },
   "outputs": [
    {
     "data": {
      "text/plain": [
       "array([0.59432327, 0.60293778, 0.60235253, 0.60066293, 0.61828258])"
      ]
     },
     "execution_count": 15,
     "metadata": {},
     "output_type": "execute_result"
    }
   ],
   "source": [
    "from sklearn.model_selection import cross_val_score\n",
    "\n",
    "model = StatsmodelsOLS(\"MEDV ~ \" + \"+\".join(datasets.feature_names))\n",
    "cv = KFold(5, shuffle=True, random_state=0)\n",
    "cross_val_score(model, dfX, dfy, scoring=\"r2\", cv=cv)"
   ]
  },
  {
   "cell_type": "markdown",
   "metadata": {},
   "source": [
    "### 벤치마크 검증 데이터"
   ]
  },
  {
   "cell_type": "markdown",
   "metadata": {},
   "source": [
    "유명한 벤치마크 문제(benchmark problem)나 캐글(Kaggle)과 같은 데이터 분석 경진대회(competition)에서는 최종 성능검증을 위한 검증 데이터가 별도로 제공될 수도 있다. 이렇게 하는 이유는 어떤 K-폴드 등의 방법으로 생성된 검증 데이터가 달라지면 성능도 약간씩 달라질 수 있기 때문에 순위 결정을 위해 어쩔 수 없이 하나의 최종 검증 데이터를 못박아 놓은 것이다. 따라서 이렇게 유일한 검증 데이터에 대한 성능은 엄격한 의미에서 절대적인 것이라고 볼 수 없다. 이러한 경우에도 학습용 데이터를 K-폴드 등의 방법으로 나누어 교차검증을 실시함으로써 과적합을 막을 수 있다.\n",
    "\n",
    "이러한 벤치마크 문제에서 최종 검증 데이터를 학습에 사용하는 것은 일종의 반칙(cheating)이므로 절대로 최종 검증 데이터를 학습에 사용해서는 안된다. 캐글과 같은 경진대회에서는 최종 검증 데이터에 대한 종속변수 값은 공개하지 않고 독립변수 값만 공개함으로써 최종 검증 데이터를 학습에 사용하는 것을 막는다."
   ]
  },
  {
   "cell_type": "markdown",
   "metadata": {},
   "source": []
  }
 ],
 "metadata": {
  "celltoolbar": "Edit Metadata",
  "kernelspec": {
   "display_name": "Python 3",
   "language": "python",
   "name": "python3"
  },
  "language_info": {
   "codemirror_mode": {
    "name": "ipython",
    "version": 3
   },
   "file_extension": ".py",
   "mimetype": "text/x-python",
   "name": "python",
   "nbconvert_exporter": "python",
   "pygments_lexer": "ipython3",
   "version": "3.11.7"
  },
  "toc": {
   "base_numbering": 1,
   "nav_menu": {},
   "number_sections": false,
   "sideBar": true,
   "skip_h1_title": false,
   "title_cell": "Table of Contents",
   "title_sidebar": "Contents",
   "toc_cell": false,
   "toc_position": {},
   "toc_section_display": true,
   "toc_window_display": false
  }
 },
 "nbformat": 4,
 "nbformat_minor": 1
}
